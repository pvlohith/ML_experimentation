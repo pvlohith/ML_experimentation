{
 "cells": [
  {
   "cell_type": "markdown",
   "metadata": {},
   "source": [
    "## BUAN6341.003 Applied Machine Learning Assigment 3 submitted by:          Pingili Lohith"
   ]
  },
  {
   "cell_type": "markdown",
   "metadata": {},
   "source": [
    "#### In this assignment, the follwing two algorithms are implemented on two datasets:\n",
    "1. K Nearest Neighbours\n",
    "2. Artificial Neural Networks\n",
    "\n",
    "About the datasets: \n",
    "1. First dataset is  Online News Sharing dataset available for download at https://archive.ics.uci.edu/ml/datasets/Online+News+Popularity# .The goal is to predict the number of time an article is shared based on features like number of images, number of videos, day of publication, type of article, referenced article shares etc. By converting the shares variable to a class variable based on median values, we try to classify an article being shared or not  based on the above features. Classification of this kind is interesting as it can help in revenue generation.\n",
    "2. Second data is Adult dataset available for download at https://archive.ics.uci.edu/ml/datasets/Census+Income, a clean version of which available at https://github.com/udacity/machine-learning/tree/master/projects/finding_donors is used. The goal is to predict whether income exceeds 50K/yr based on census data based on features like sex, education type, years of education, relationship status, race etc. By converting the income variable to a class variable based on >50k/yr and <=50k/yr , we try to classify whether the person's income exceeds $50k/yr. This kind of classification can be of interest to  a non-profit organisation, where organizations survive on donations. Understanding an individual's income can help a non-profit better understand how large of a donation to request, or whether or not they should reach out to begin with.\n",
    "\n",
    "The procedure followed in the implementation of these algorithms is as follows:\n",
    "1. Converted the decision variable to two classes.\n",
    "2. Divided the data into train and test sets.\n",
    "3. Implemented the three algorithms on both datasets.\n",
    "4. For KNN algorithm, experimented with differernt hyperparameters such as number of neighbours, distance, algorithms and weights, and compiled a dataframe containing time taken, accuracy score and error for both train and test data with variation in hyperparameters. Plotted error rates vs train data size, error rates vs clock time, evaluation metric vs hyper parameter.\n",
    "5. For Artificial Neural Networks algorithm, experimented with hyperparameters such as number of nodes in hidden layer, batch size, epochs ,activation function and optimizer, and complied a dataframe containing time taken, accuracy score and error for both train and test data with variation in hyperparameters. Plotted error rates vs train data size, error rates vs clock time, evaluation metric vs hyper parameter. \n",
    "6. Evaluated the best training parameters for each dataset based on accuracy score.\n",
    "\n",
    "Libraries used: pandas, numpy, scikitlearn, keras, seaborn and matplotlib\n",
    "\n",
    "**NOTE: nodes refer to number of neurons in hidden layer**"
   ]
  },
  {
   "cell_type": "markdown",
   "metadata": {},
   "source": [
    "#### KNN Experimentation Explanations:\n",
    "1. Distance metric: Experimented with two distance metrics - Euclidean and Manhanttan to find which is more appropriate for the given problem\n",
    "2. Weights metric:  Experimented with uniform and 'distance' - To see how the model performs when the nearest neighbour has greater influence than neighbours far away\n",
    "3. Algorithm: Auto, Brute and ball_tree were experimented with in the first dataset where as in the second dataset brute was not used as it was very computationally expensive.\n"
   ]
  },
  {
   "cell_type": "markdown",
   "metadata": {},
   "source": [
    "#### ANN Experimentation Explanations:\n",
    "1. Nodes: The optimum number of nodes (reference provided at the end) is the mean of number of input dimensions and output dimensions. So experimentation was done with mean-10, mean and mean+10 number of nodes,\n",
    "2. Number of Hidden layers: From the same above reference, one hidden layer is enough to model almost any type of data. So only one hidden layer was used in the experimentation.\n",
    "3. Activation Functions: tanh, sigmoid and relu was experimented with t find the most appropriate for each dataset.\n",
    "4. Batch Sizes: In addition to default batch size of 32, 64 was also experimented with as these are multiples of 2 and thus have better memory management.\n",
    "5. Number of Epochs: Only 10,20,30 epochs were experimented with as more number of epochs are computationally expensive."
   ]
  },
  {
   "cell_type": "markdown",
   "metadata": {},
   "source": [
    "## Dataset 1"
   ]
  },
  {
   "cell_type": "code",
   "execution_count": 37,
   "metadata": {},
   "outputs": [],
   "source": [
    "import numpy as np\n",
    "import pandas as pd\n",
    "import matplotlib.pyplot as plt\n",
    "import seaborn as sns\n",
    "%matplotlib inline"
   ]
  },
  {
   "cell_type": "code",
   "execution_count": 38,
   "metadata": {},
   "outputs": [],
   "source": [
    "df1=pd.read_csv('OnlineNewsPopularity.csv')"
   ]
  },
  {
   "cell_type": "code",
   "execution_count": 39,
   "metadata": {},
   "outputs": [
    {
     "data": {
      "text/html": [
       "<div>\n",
       "<style scoped>\n",
       "    .dataframe tbody tr th:only-of-type {\n",
       "        vertical-align: middle;\n",
       "    }\n",
       "\n",
       "    .dataframe tbody tr th {\n",
       "        vertical-align: top;\n",
       "    }\n",
       "\n",
       "    .dataframe thead th {\n",
       "        text-align: right;\n",
       "    }\n",
       "</style>\n",
       "<table border=\"1\" class=\"dataframe\">\n",
       "  <thead>\n",
       "    <tr style=\"text-align: right;\">\n",
       "      <th></th>\n",
       "      <th>url</th>\n",
       "      <th>timedelta</th>\n",
       "      <th>n_tokens_title</th>\n",
       "      <th>n_tokens_content</th>\n",
       "      <th>n_unique_tokens</th>\n",
       "      <th>n_non_stop_words</th>\n",
       "      <th>n_non_stop_unique_tokens</th>\n",
       "      <th>num_hrefs</th>\n",
       "      <th>num_self_hrefs</th>\n",
       "      <th>num_imgs</th>\n",
       "      <th>...</th>\n",
       "      <th>min_positive_polarity</th>\n",
       "      <th>max_positive_polarity</th>\n",
       "      <th>avg_negative_polarity</th>\n",
       "      <th>min_negative_polarity</th>\n",
       "      <th>max_negative_polarity</th>\n",
       "      <th>title_subjectivity</th>\n",
       "      <th>title_sentiment_polarity</th>\n",
       "      <th>abs_title_subjectivity</th>\n",
       "      <th>abs_title_sentiment_polarity</th>\n",
       "      <th>shares</th>\n",
       "    </tr>\n",
       "  </thead>\n",
       "  <tbody>\n",
       "    <tr>\n",
       "      <th>0</th>\n",
       "      <td>http://mashable.com/2013/01/07/amazon-instant-...</td>\n",
       "      <td>731</td>\n",
       "      <td>12</td>\n",
       "      <td>219</td>\n",
       "      <td>0.663594</td>\n",
       "      <td>1.0</td>\n",
       "      <td>0.815385</td>\n",
       "      <td>4</td>\n",
       "      <td>2</td>\n",
       "      <td>1</td>\n",
       "      <td>...</td>\n",
       "      <td>0.100000</td>\n",
       "      <td>0.7</td>\n",
       "      <td>-0.350000</td>\n",
       "      <td>-0.600</td>\n",
       "      <td>-0.200000</td>\n",
       "      <td>0.500000</td>\n",
       "      <td>-0.187500</td>\n",
       "      <td>0.000000</td>\n",
       "      <td>0.187500</td>\n",
       "      <td>593</td>\n",
       "    </tr>\n",
       "    <tr>\n",
       "      <th>1</th>\n",
       "      <td>http://mashable.com/2013/01/07/ap-samsung-spon...</td>\n",
       "      <td>731</td>\n",
       "      <td>9</td>\n",
       "      <td>255</td>\n",
       "      <td>0.604743</td>\n",
       "      <td>1.0</td>\n",
       "      <td>0.791946</td>\n",
       "      <td>3</td>\n",
       "      <td>1</td>\n",
       "      <td>1</td>\n",
       "      <td>...</td>\n",
       "      <td>0.033333</td>\n",
       "      <td>0.7</td>\n",
       "      <td>-0.118750</td>\n",
       "      <td>-0.125</td>\n",
       "      <td>-0.100000</td>\n",
       "      <td>0.000000</td>\n",
       "      <td>0.000000</td>\n",
       "      <td>0.500000</td>\n",
       "      <td>0.000000</td>\n",
       "      <td>711</td>\n",
       "    </tr>\n",
       "    <tr>\n",
       "      <th>2</th>\n",
       "      <td>http://mashable.com/2013/01/07/apple-40-billio...</td>\n",
       "      <td>731</td>\n",
       "      <td>9</td>\n",
       "      <td>211</td>\n",
       "      <td>0.575130</td>\n",
       "      <td>1.0</td>\n",
       "      <td>0.663866</td>\n",
       "      <td>3</td>\n",
       "      <td>1</td>\n",
       "      <td>1</td>\n",
       "      <td>...</td>\n",
       "      <td>0.100000</td>\n",
       "      <td>1.0</td>\n",
       "      <td>-0.466667</td>\n",
       "      <td>-0.800</td>\n",
       "      <td>-0.133333</td>\n",
       "      <td>0.000000</td>\n",
       "      <td>0.000000</td>\n",
       "      <td>0.500000</td>\n",
       "      <td>0.000000</td>\n",
       "      <td>1500</td>\n",
       "    </tr>\n",
       "    <tr>\n",
       "      <th>3</th>\n",
       "      <td>http://mashable.com/2013/01/07/astronaut-notre...</td>\n",
       "      <td>731</td>\n",
       "      <td>9</td>\n",
       "      <td>531</td>\n",
       "      <td>0.503788</td>\n",
       "      <td>1.0</td>\n",
       "      <td>0.665635</td>\n",
       "      <td>9</td>\n",
       "      <td>0</td>\n",
       "      <td>1</td>\n",
       "      <td>...</td>\n",
       "      <td>0.136364</td>\n",
       "      <td>0.8</td>\n",
       "      <td>-0.369697</td>\n",
       "      <td>-0.600</td>\n",
       "      <td>-0.166667</td>\n",
       "      <td>0.000000</td>\n",
       "      <td>0.000000</td>\n",
       "      <td>0.500000</td>\n",
       "      <td>0.000000</td>\n",
       "      <td>1200</td>\n",
       "    </tr>\n",
       "    <tr>\n",
       "      <th>4</th>\n",
       "      <td>http://mashable.com/2013/01/07/att-u-verse-apps/</td>\n",
       "      <td>731</td>\n",
       "      <td>13</td>\n",
       "      <td>1072</td>\n",
       "      <td>0.415646</td>\n",
       "      <td>1.0</td>\n",
       "      <td>0.540890</td>\n",
       "      <td>19</td>\n",
       "      <td>19</td>\n",
       "      <td>20</td>\n",
       "      <td>...</td>\n",
       "      <td>0.033333</td>\n",
       "      <td>1.0</td>\n",
       "      <td>-0.220192</td>\n",
       "      <td>-0.500</td>\n",
       "      <td>-0.050000</td>\n",
       "      <td>0.454545</td>\n",
       "      <td>0.136364</td>\n",
       "      <td>0.045455</td>\n",
       "      <td>0.136364</td>\n",
       "      <td>505</td>\n",
       "    </tr>\n",
       "  </tbody>\n",
       "</table>\n",
       "<p>5 rows × 61 columns</p>\n",
       "</div>"
      ],
      "text/plain": [
       "                                                 url  timedelta  \\\n",
       "0  http://mashable.com/2013/01/07/amazon-instant-...        731   \n",
       "1  http://mashable.com/2013/01/07/ap-samsung-spon...        731   \n",
       "2  http://mashable.com/2013/01/07/apple-40-billio...        731   \n",
       "3  http://mashable.com/2013/01/07/astronaut-notre...        731   \n",
       "4   http://mashable.com/2013/01/07/att-u-verse-apps/        731   \n",
       "\n",
       "    n_tokens_title   n_tokens_content   n_unique_tokens   n_non_stop_words  \\\n",
       "0               12                219          0.663594                1.0   \n",
       "1                9                255          0.604743                1.0   \n",
       "2                9                211          0.575130                1.0   \n",
       "3                9                531          0.503788                1.0   \n",
       "4               13               1072          0.415646                1.0   \n",
       "\n",
       "    n_non_stop_unique_tokens   num_hrefs   num_self_hrefs   num_imgs   ...    \\\n",
       "0                   0.815385           4                2          1   ...     \n",
       "1                   0.791946           3                1          1   ...     \n",
       "2                   0.663866           3                1          1   ...     \n",
       "3                   0.665635           9                0          1   ...     \n",
       "4                   0.540890          19               19         20   ...     \n",
       "\n",
       "    min_positive_polarity   max_positive_polarity   avg_negative_polarity  \\\n",
       "0                0.100000                     0.7               -0.350000   \n",
       "1                0.033333                     0.7               -0.118750   \n",
       "2                0.100000                     1.0               -0.466667   \n",
       "3                0.136364                     0.8               -0.369697   \n",
       "4                0.033333                     1.0               -0.220192   \n",
       "\n",
       "    min_negative_polarity   max_negative_polarity   title_subjectivity  \\\n",
       "0                  -0.600               -0.200000             0.500000   \n",
       "1                  -0.125               -0.100000             0.000000   \n",
       "2                  -0.800               -0.133333             0.000000   \n",
       "3                  -0.600               -0.166667             0.000000   \n",
       "4                  -0.500               -0.050000             0.454545   \n",
       "\n",
       "    title_sentiment_polarity   abs_title_subjectivity  \\\n",
       "0                  -0.187500                 0.000000   \n",
       "1                   0.000000                 0.500000   \n",
       "2                   0.000000                 0.500000   \n",
       "3                   0.000000                 0.500000   \n",
       "4                   0.136364                 0.045455   \n",
       "\n",
       "    abs_title_sentiment_polarity  shares  \n",
       "0                       0.187500     593  \n",
       "1                       0.000000     711  \n",
       "2                       0.000000    1500  \n",
       "3                       0.000000    1200  \n",
       "4                       0.136364     505  \n",
       "\n",
       "[5 rows x 61 columns]"
      ]
     },
     "execution_count": 39,
     "metadata": {},
     "output_type": "execute_result"
    }
   ],
   "source": [
    "df1.head()"
   ]
  },
  {
   "cell_type": "code",
   "execution_count": 40,
   "metadata": {},
   "outputs": [],
   "source": [
    "shares=df1['shares']\n",
    "features=df1.drop(['url','timedelta','shares'],axis=1)\n",
    "features = (features - features.mean()) / (features.max() - features.min()) #Normalisation of data"
   ]
  },
  {
   "cell_type": "markdown",
   "metadata": {},
   "source": [
    "### Task1 : conversion of shares to two classes based on median value"
   ]
  },
  {
   "cell_type": "code",
   "execution_count": 41,
   "metadata": {},
   "outputs": [],
   "source": [
    "#Creation of binary variable for shares based on median.\n",
    "median_shares=np.median(shares)\n",
    "shares_ind=[]\n",
    "for share in shares:\n",
    "    if share>= median_shares:\n",
    "        shares_ind.append(1)\n",
    "    else:\n",
    "        shares_ind.append(0)\n",
    "shares=pd.DataFrame(shares_ind)\n",
    "shares=np.ravel(shares)"
   ]
  },
  {
   "cell_type": "markdown",
   "metadata": {},
   "source": [
    "### Task2 : Division of data into test and train sets "
   ]
  },
  {
   "cell_type": "code",
   "execution_count": 42,
   "metadata": {},
   "outputs": [],
   "source": [
    "# Splitting data into test and train\n",
    "from sklearn.model_selection import train_test_split\n",
    "from sklearn.metrics import accuracy_score\n",
    "X_train, X_test, y_train, y_test = train_test_split(features, shares, test_size=0.3, random_state=123)\n",
    "y_train = np.ravel(y_train)\n",
    "y_test = np.ravel(y_test)"
   ]
  },
  {
   "cell_type": "code",
   "execution_count": 43,
   "metadata": {},
   "outputs": [],
   "source": [
    "from sklearn.neighbors import KNeighborsClassifier\n",
    "from sklearn.metrics import accuracy_score"
   ]
  },
  {
   "cell_type": "markdown",
   "metadata": {},
   "source": [
    "#### Implementation of KNN with default parameters"
   ]
  },
  {
   "cell_type": "code",
   "execution_count": 44,
   "metadata": {},
   "outputs": [
    {
     "name": "stdout",
     "output_type": "stream",
     "text": [
      "0.5954262653438709 32.22152943589754\n"
     ]
    }
   ],
   "source": [
    "import time\n",
    "time_start=time.clock()\n",
    "model=KNeighborsClassifier()\n",
    "model.fit(X_train,y_train)\n",
    "y_pred=model.predict(X_test)\n",
    "accuracy=accuracy_score(y_test,y_pred)\n",
    "time_elapsed = (time.clock() - time_start)\n",
    "print(accuracy, time_elapsed)"
   ]
  },
  {
   "cell_type": "code",
   "execution_count": 45,
   "metadata": {},
   "outputs": [],
   "source": [
    "def knn(n,weight,algo,metric,X_train,y_train,X_test,y_test):\n",
    "    import time\n",
    "    time_start=time.clock()\n",
    "    model1=KNeighborsClassifier(n_neighbors = n, weights = weight, algorithm = algo, p = metric )\n",
    "    model1.fit(X_train,y_train)\n",
    "    y_pred_train=model1.predict(X_train)\n",
    "    y_pred_test=model1.predict(X_test)\n",
    "    S_train=accuracy_score(y_train,y_pred_train)\n",
    "    S_test=accuracy_score(y_test,y_pred_test)\n",
    "    time_elapsed = (time.clock() - time_start)\n",
    "    time_taken.append(time_elapsed)\n",
    "    train_score.append(S_train)\n",
    "    test_score.append(S_test)\n",
    "    neighbours.append(n)\n",
    "    weight_function.append(weight)\n",
    "    algo_type.append(algo)\n",
    "    dist_metric.append(metric)\n",
    "    print(n,weight,algo,metric,S_test,time_elapsed)"
   ]
  },
  {
   "cell_type": "markdown",
   "metadata": {},
   "source": [
    "#### Experimentation of KNN with n=[1,2,5,10,15,25,50,100] weights=['uniform','distance' algorithms=['auto','brute'] metrics = [1,2]"
   ]
  },
  {
   "cell_type": "code",
   "execution_count": 46,
   "metadata": {
    "scrolled": true
   },
   "outputs": [],
   "source": [
    "n=[1,2,5,10,15,25,50,100]\n",
    "weights=['uniform','distance']\n",
    "algorithms=['auto','brute']\n",
    "metrics = [1,2]\n",
    "train_score=[]\n",
    "test_score=[]\n",
    "time_taken=[]\n",
    "neighbours=[]\n",
    "weight_function=[]\n",
    "algo_type=[]\n",
    "dist_metric=[]\n",
    "for n in n:\n",
    "    for weight in weights:\n",
    "        for algo in algorithms:\n",
    "            for metric in metrics:\n",
    "                knn(n,weight,algo,metric,X_train,y_train,X_test,y_test)\n",
    "df1_knn=pd.DataFrame()\n",
    "df1_knn['no_neighbours']=neighbours\n",
    "df1_knn['weight_function']=weight_function\n",
    "df1_knn['algo_type']=algo_type\n",
    "df1_knn['dist_metric']=dist_metric\n",
    "df1_knn['train_score']=train_score\n",
    "df1_knn['test_score']=test_score\n",
    "df1_knn['train_error']=1-df1_knn['train_score']\n",
    "df1_knn['test_error']=1-df1_knn['test_score']\n",
    "df1_knn['time']=time_taken"
   ]
  },
  {
   "cell_type": "code",
   "execution_count": 47,
   "metadata": {},
   "outputs": [
    {
     "data": {
      "text/plain": [
       "5020.809707487175"
      ]
     },
     "execution_count": 47,
     "metadata": {},
     "output_type": "execute_result"
    }
   ],
   "source": [
    "df1_knn['time'].sum()"
   ]
  },
  {
   "cell_type": "markdown",
   "metadata": {},
   "source": [
    "#### DataFrame containing the top 5 accuracy scores."
   ]
  },
  {
   "cell_type": "code",
   "execution_count": 48,
   "metadata": {},
   "outputs": [
    {
     "data": {
      "text/html": [
       "<div>\n",
       "<style scoped>\n",
       "    .dataframe tbody tr th:only-of-type {\n",
       "        vertical-align: middle;\n",
       "    }\n",
       "\n",
       "    .dataframe tbody tr th {\n",
       "        vertical-align: top;\n",
       "    }\n",
       "\n",
       "    .dataframe thead th {\n",
       "        text-align: right;\n",
       "    }\n",
       "</style>\n",
       "<table border=\"1\" class=\"dataframe\">\n",
       "  <thead>\n",
       "    <tr style=\"text-align: right;\">\n",
       "      <th></th>\n",
       "      <th>no_neighbours</th>\n",
       "      <th>weight_function</th>\n",
       "      <th>algo_type</th>\n",
       "      <th>dist_metric</th>\n",
       "      <th>train_score</th>\n",
       "      <th>test_score</th>\n",
       "      <th>train_error</th>\n",
       "      <th>test_error</th>\n",
       "      <th>time</th>\n",
       "    </tr>\n",
       "  </thead>\n",
       "  <tbody>\n",
       "    <tr>\n",
       "      <th>52</th>\n",
       "      <td>50</td>\n",
       "      <td>distance</td>\n",
       "      <td>auto</td>\n",
       "      <td>1</td>\n",
       "      <td>1.000000</td>\n",
       "      <td>0.640155</td>\n",
       "      <td>0.000000</td>\n",
       "      <td>0.359845</td>\n",
       "      <td>141.628521</td>\n",
       "    </tr>\n",
       "    <tr>\n",
       "      <th>54</th>\n",
       "      <td>50</td>\n",
       "      <td>distance</td>\n",
       "      <td>brute</td>\n",
       "      <td>1</td>\n",
       "      <td>1.000000</td>\n",
       "      <td>0.640155</td>\n",
       "      <td>0.000000</td>\n",
       "      <td>0.359845</td>\n",
       "      <td>73.523396</td>\n",
       "    </tr>\n",
       "    <tr>\n",
       "      <th>62</th>\n",
       "      <td>100</td>\n",
       "      <td>distance</td>\n",
       "      <td>brute</td>\n",
       "      <td>1</td>\n",
       "      <td>1.000000</td>\n",
       "      <td>0.639566</td>\n",
       "      <td>0.000000</td>\n",
       "      <td>0.360434</td>\n",
       "      <td>70.811157</td>\n",
       "    </tr>\n",
       "    <tr>\n",
       "      <th>60</th>\n",
       "      <td>100</td>\n",
       "      <td>distance</td>\n",
       "      <td>auto</td>\n",
       "      <td>1</td>\n",
       "      <td>1.000000</td>\n",
       "      <td>0.639566</td>\n",
       "      <td>0.000000</td>\n",
       "      <td>0.360434</td>\n",
       "      <td>145.258931</td>\n",
       "    </tr>\n",
       "    <tr>\n",
       "      <th>48</th>\n",
       "      <td>50</td>\n",
       "      <td>uniform</td>\n",
       "      <td>auto</td>\n",
       "      <td>1</td>\n",
       "      <td>0.654378</td>\n",
       "      <td>0.638053</td>\n",
       "      <td>0.345622</td>\n",
       "      <td>0.361947</td>\n",
       "      <td>141.178907</td>\n",
       "    </tr>\n",
       "  </tbody>\n",
       "</table>\n",
       "</div>"
      ],
      "text/plain": [
       "    no_neighbours weight_function algo_type  dist_metric  train_score  \\\n",
       "52             50        distance      auto            1     1.000000   \n",
       "54             50        distance     brute            1     1.000000   \n",
       "62            100        distance     brute            1     1.000000   \n",
       "60            100        distance      auto            1     1.000000   \n",
       "48             50         uniform      auto            1     0.654378   \n",
       "\n",
       "    test_score  train_error  test_error        time  \n",
       "52    0.640155     0.000000    0.359845  141.628521  \n",
       "54    0.640155     0.000000    0.359845   73.523396  \n",
       "62    0.639566     0.000000    0.360434   70.811157  \n",
       "60    0.639566     0.000000    0.360434  145.258931  \n",
       "48    0.638053     0.345622    0.361947  141.178907  "
      ]
     },
     "execution_count": 48,
     "metadata": {},
     "output_type": "execute_result"
    }
   ],
   "source": [
    "(df1_knn.sort_values(by='test_score',ascending=False)).head(5)"
   ]
  },
  {
   "cell_type": "markdown",
   "metadata": {},
   "source": [
    "#### Findings\n",
    "1. Though the best accuracy is 64.0155, the corresponding train accuracy is 100 which implies overfitting.\n",
    "2. The next best test accuracy is 63.80 with hyper paramters of 40 neighbours, uniform weight function, auto and dist metric 1. The best test_score took a computational time of 141 secs."
   ]
  },
  {
   "cell_type": "markdown",
   "metadata": {},
   "source": [
    "#### Graphs containing comparisions of various hyper parameters"
   ]
  },
  {
   "cell_type": "code",
   "execution_count": 134,
   "metadata": {},
   "outputs": [
    {
     "data": {
      "text/plain": [
       "<matplotlib.legend.Legend at 0x2769b16b5f8>"
      ]
     },
     "execution_count": 134,
     "metadata": {},
     "output_type": "execute_result"
    },
    {
     "data": {
      "image/png": "[encoded data removed]",
      "text/plain": [
       "<matplotlib.figure.Figure at 0x2769aa7eb00>"
      ]
     },
     "metadata": {},
     "output_type": "display_data"
    }
   ],
   "source": [
    "plt.figure(figsize=(20,20))\n",
    "plt.subplot(2,2,1)\n",
    "plt.scatter('no_neighbours','test_score',data=df1_knn,color='r')\n",
    "plt.scatter('no_neighbours','train_score',data=df1_knn,color='b')\n",
    "plt.xlabel('no_neighbours')\n",
    "plt.ylabel('score')\n",
    "plt.title('plot showing no_neighbours vs score')\n",
    "plt.legend(loc='upper right')\n",
    "plt.subplot(2,2,2)\n",
    "plt.scatter('no_neighbours','test_error',data=df1_knn,color='r')\n",
    "plt.scatter('no_neighbours','train_error',data=df1_knn,color='b')\n",
    "plt.xlabel('no_neighbours')\n",
    "plt.ylabel('error')\n",
    "plt.title('plot showing no_neighbours vs error')\n",
    "plt.legend(loc='upper right')\n",
    "plt.subplot(2,2,3)\n",
    "sns.stripplot('no_neighbours','time',hue='algo_type',data=df1_knn)\n",
    "plt.xlabel('no_neighbours')\n",
    "plt.ylabel('time')\n",
    "plt.title('plot showing no_neighbours vs time colored by algo_type')\n",
    "plt.legend(loc='upper right')\n",
    "plt.subplot(2,2,4)\n",
    "sns.stripplot('algo_type','train_score',hue='weight_function',data=df1_knn)\n",
    "plt.xlabel('algo_type')\n",
    "plt.ylabel('train_score')\n",
    "plt.title('plot showing algo_type vs train_score colored by weight_function')\n",
    "plt.legend(loc='upper right')"
   ]
  },
  {
   "cell_type": "markdown",
   "metadata": {},
   "source": [
    "#### Findings:\n",
    "1. Distance as a weight metric gave a test_score of 1.0 across all parameters suggesting over-fitting\n",
    "2. From graph 1, at around 50 neighbours, there is very less difference between train and test score and this seems to be the best test_score as evidenced by the output dataframe.\n",
    "3. With increase in number of neighgbours, brute force algorithm took less time than auto algorithm."
   ]
  },
  {
   "cell_type": "markdown",
   "metadata": {},
   "source": [
    "#### ANN with default parameters"
   ]
  },
  {
   "cell_type": "code",
   "execution_count": 49,
   "metadata": {
    "scrolled": true
   },
   "outputs": [
    {
     "name": "stdout",
     "output_type": "stream",
     "text": [
      "Epoch 1/10\n",
      "27750/27750 [==============================] - 4s 146us/step - loss: 0.6394 - acc: 0.6368\n",
      "Epoch 2/10\n",
      "27750/27750 [==============================] - 3s 113us/step - loss: 0.6316 - acc: 0.6448\n",
      "Epoch 3/10\n",
      "27750/27750 [==============================] - 3s 115us/step - loss: 0.6303 - acc: 0.6465\n",
      "Epoch 4/10\n",
      "27750/27750 [==============================] - 3s 109us/step - loss: 0.6294 - acc: 0.6475\n",
      "Epoch 5/10\n",
      "27750/27750 [==============================] - 3s 105us/step - loss: 0.6285 - acc: 0.6486\n",
      "Epoch 6/10\n",
      "27750/27750 [==============================] - 3s 109us/step - loss: 0.6281 - acc: 0.6495\n",
      "Epoch 7/10\n",
      "27750/27750 [==============================] - 3s 106us/step - loss: 0.6275 - acc: 0.6501\n",
      "Epoch 8/10\n",
      "27750/27750 [==============================] - 3s 109us/step - loss: 0.6271 - acc: 0.6499\n",
      "Epoch 9/10\n",
      "27750/27750 [==============================] - 3s 104us/step - loss: 0.6264 - acc: 0.6523\n",
      "Epoch 10/10\n",
      "27750/27750 [==============================] - 3s 113us/step - loss: 0.6259 - acc: 0.6524\n",
      "11894/11894 [==============================] - 1s 50us/step\n",
      "\n",
      "Loss:  0.6327779333952677\n",
      "\n",
      "Accuracy:  0.6452833360957763\n"
     ]
    }
   ],
   "source": [
    "from keras.models import Sequential\n",
    "from keras.layers.core import Dense, Activation\n",
    "\n",
    "xor = Sequential()\n",
    "\n",
    "# Add required layers\n",
    "xor.add(Dense(30,input_dim=X_train.shape[1]))\n",
    "xor.add(Activation('tanh'))\n",
    "xor.add(Dense(1))\n",
    "xor.add(Activation(\"sigmoid\"))\n",
    "\n",
    "\n",
    "xor.compile(loss=\"binary_crossentropy\", optimizer=\"adam\", metrics = ['accuracy'])\n",
    "history = xor.fit(X_train, y_train, epochs=10, verbose=1)\n",
    "score = xor.evaluate(X_test, y_test)\n",
    "\n",
    "print(\"\\nLoss: \", score[0])\n",
    "print(\"\\nAccuracy: \", score[1])"
   ]
  },
  {
   "cell_type": "markdown",
   "metadata": {},
   "source": [
    "#### ANN experimentation with nodes=[20,30,40] activation_func=['sigmoid','relu','tanh'] optimizer=['adam','rmsprop'] batch_size = [32,64] epochs = [10,20,30]"
   ]
  },
  {
   "cell_type": "code",
   "execution_count": null,
   "metadata": {},
   "outputs": [],
   "source": [
    "nodes=[20,30,40]\n",
    "activation_func=['sigmoid','relu','tanh']\n",
    "optimizer=['adam','rmsprop']\n",
    "batch_size = [32,64]\n",
    "epochs = [10,20,30]\n",
    "\n",
    "def ANN(nodes,activation_func,optimizer,batch_size,epochs,X_train,y_train,X_test,y_test):\n",
    "    import time\n",
    "    time_start=time.clock()\n",
    "    model2 = Sequential()\n",
    "    #model2.add(Dense(output_dim=nodes, input_dim=input_d, activation=activation_func))\n",
    "    model2.add(Dense(output_dim = int(nodes), activation = activation_func, input_dim = 58))\n",
    "        \n",
    "    model2.add(Dense(1, activation='sigmoid'))\n",
    "    model2.compile(loss='binary_crossentropy', optimizer=optimizer, metrics=['accuracy'])\n",
    "    model2.fit(X_train, y_train, epochs=epochs,batch_size=batch_size,validation_split=0.2, verbose=0)\n",
    "    score = model2.evaluate(X_test, y_test)\n",
    "    S_test=score[1]\n",
    "    S_loss=score[0]\n",
    "    time_elapsed = (time.clock() - time_start)\n",
    "    time_taken.append(time_elapsed)\n",
    "    test_score.append(S_test)\n",
    "    test_loss.append(S_loss)\n",
    "    nodes_.append(nodes)\n",
    "    activation_func_.append(activation_func)\n",
    "    optimizer_.append(optimizer)\n",
    "    batch_size_.append(batch_size)\n",
    "    epochs_.append(epochs)\n",
    "    return print(es)"
   ]
  },
  {
   "cell_type": "code",
   "execution_count": null,
   "metadata": {},
   "outputs": [],
   "source": [
    "test_score=[]\n",
    "time_taken=[]\n",
    "test_loss=[]\n",
    "nodes_=[]\n",
    "activation_func_=[]\n",
    "optimizer_=[]\n",
    "batch_size_=[]\n",
    "epochs_=[]\n",
    "                \n",
    "for es in epochs:    \n",
    "    for bs in batch_size:\n",
    "        for af in activation_func:\n",
    "            for opti in optimizer:\n",
    "                  for node in nodes:\n",
    "                    ANN(node,af,opti,bs,es,X_train,y_train,X_test,y_test)\n",
    "\n",
    "df1_ANN=pd.DataFrame()\n",
    "df1_ANN['nodes']=nodes_\n",
    "df1_ANN['activation_function']=activation_func_\n",
    "df1_ANN['optimizer']=optimizer_\n",
    "df1_ANN['batch_size']=batch_size_\n",
    "df1_ANN['epochs']=epochs_\n",
    "df1_ANN['loss']=test_loss\n",
    "df1_ANN['test_score']=test_score\n",
    "df1_ANN['time']=time_taken\n"
   ]
  },
  {
   "cell_type": "code",
   "execution_count": 4,
   "metadata": {},
   "outputs": [
    {
     "data": {
      "text/html": [
       "<div>\n",
       "<style scoped>\n",
       "    .dataframe tbody tr th:only-of-type {\n",
       "        vertical-align: middle;\n",
       "    }\n",
       "\n",
       "    .dataframe tbody tr th {\n",
       "        vertical-align: top;\n",
       "    }\n",
       "\n",
       "    .dataframe thead th {\n",
       "        text-align: right;\n",
       "    }\n",
       "</style>\n",
       "<table border=\"1\" class=\"dataframe\">\n",
       "  <thead>\n",
       "    <tr style=\"text-align: right;\">\n",
       "      <th></th>\n",
       "      <th>Unnamed: 0</th>\n",
       "      <th>nodes</th>\n",
       "      <th>activation_function</th>\n",
       "      <th>optimizer</th>\n",
       "      <th>batch_size</th>\n",
       "      <th>epochs</th>\n",
       "      <th>loss</th>\n",
       "      <th>test_score</th>\n",
       "      <th>time</th>\n",
       "    </tr>\n",
       "  </thead>\n",
       "  <tbody>\n",
       "    <tr>\n",
       "      <th>0</th>\n",
       "      <td>0</td>\n",
       "      <td>20</td>\n",
       "      <td>sigmoid</td>\n",
       "      <td>adam</td>\n",
       "      <td>32</td>\n",
       "      <td>10</td>\n",
       "      <td>0.634747</td>\n",
       "      <td>0.641836</td>\n",
       "      <td>14.277220</td>\n",
       "    </tr>\n",
       "    <tr>\n",
       "      <th>1</th>\n",
       "      <td>1</td>\n",
       "      <td>30</td>\n",
       "      <td>sigmoid</td>\n",
       "      <td>adam</td>\n",
       "      <td>32</td>\n",
       "      <td>10</td>\n",
       "      <td>0.634708</td>\n",
       "      <td>0.643770</td>\n",
       "      <td>14.636226</td>\n",
       "    </tr>\n",
       "    <tr>\n",
       "      <th>2</th>\n",
       "      <td>2</td>\n",
       "      <td>40</td>\n",
       "      <td>sigmoid</td>\n",
       "      <td>adam</td>\n",
       "      <td>32</td>\n",
       "      <td>10</td>\n",
       "      <td>0.635128</td>\n",
       "      <td>0.642425</td>\n",
       "      <td>14.449010</td>\n",
       "    </tr>\n",
       "    <tr>\n",
       "      <th>3</th>\n",
       "      <td>3</td>\n",
       "      <td>20</td>\n",
       "      <td>sigmoid</td>\n",
       "      <td>rmsprop</td>\n",
       "      <td>32</td>\n",
       "      <td>10</td>\n",
       "      <td>0.634617</td>\n",
       "      <td>0.643686</td>\n",
       "      <td>14.165706</td>\n",
       "    </tr>\n",
       "    <tr>\n",
       "      <th>4</th>\n",
       "      <td>4</td>\n",
       "      <td>30</td>\n",
       "      <td>sigmoid</td>\n",
       "      <td>rmsprop</td>\n",
       "      <td>32</td>\n",
       "      <td>10</td>\n",
       "      <td>0.634930</td>\n",
       "      <td>0.643350</td>\n",
       "      <td>14.462807</td>\n",
       "    </tr>\n",
       "  </tbody>\n",
       "</table>\n",
       "</div>"
      ],
      "text/plain": [
       "   Unnamed: 0  nodes activation_function optimizer  batch_size  epochs  \\\n",
       "0           0     20             sigmoid      adam          32      10   \n",
       "1           1     30             sigmoid      adam          32      10   \n",
       "2           2     40             sigmoid      adam          32      10   \n",
       "3           3     20             sigmoid   rmsprop          32      10   \n",
       "4           4     30             sigmoid   rmsprop          32      10   \n",
       "\n",
       "       loss  test_score       time  \n",
       "0  0.634747    0.641836  14.277220  \n",
       "1  0.634708    0.643770  14.636226  \n",
       "2  0.635128    0.642425  14.449010  \n",
       "3  0.634617    0.643686  14.165706  \n",
       "4  0.634930    0.643350  14.462807  "
      ]
     },
     "execution_count": 4,
     "metadata": {},
     "output_type": "execute_result"
    }
   ],
   "source": [
    "df1_ANN.head()"
   ]
  },
  {
   "cell_type": "markdown",
   "metadata": {},
   "source": [
    "#### DataFrame containing top 5 test scores"
   ]
  },
  {
   "cell_type": "code",
   "execution_count": 24,
   "metadata": {
    "scrolled": true
   },
   "outputs": [
    {
     "data": {
      "text/html": [
       "<div>\n",
       "<style scoped>\n",
       "    .dataframe tbody tr th:only-of-type {\n",
       "        vertical-align: middle;\n",
       "    }\n",
       "\n",
       "    .dataframe tbody tr th {\n",
       "        vertical-align: top;\n",
       "    }\n",
       "\n",
       "    .dataframe thead th {\n",
       "        text-align: right;\n",
       "    }\n",
       "</style>\n",
       "<table border=\"1\" class=\"dataframe\">\n",
       "  <thead>\n",
       "    <tr style=\"text-align: right;\">\n",
       "      <th></th>\n",
       "      <th>Unnamed: 0</th>\n",
       "      <th>nodes</th>\n",
       "      <th>activation_function</th>\n",
       "      <th>optimizer</th>\n",
       "      <th>batch_size</th>\n",
       "      <th>epochs</th>\n",
       "      <th>loss</th>\n",
       "      <th>test_score</th>\n",
       "      <th>time</th>\n",
       "    </tr>\n",
       "  </thead>\n",
       "  <tbody>\n",
       "    <tr>\n",
       "      <th>83</th>\n",
       "      <td>83</td>\n",
       "      <td>40</td>\n",
       "      <td>relu</td>\n",
       "      <td>rmsprop</td>\n",
       "      <td>32</td>\n",
       "      <td>30</td>\n",
       "      <td>0.621184</td>\n",
       "      <td>0.659240</td>\n",
       "      <td>55.839856</td>\n",
       "    </tr>\n",
       "    <tr>\n",
       "      <th>99</th>\n",
       "      <td>99</td>\n",
       "      <td>20</td>\n",
       "      <td>relu</td>\n",
       "      <td>rmsprop</td>\n",
       "      <td>64</td>\n",
       "      <td>30</td>\n",
       "      <td>0.620592</td>\n",
       "      <td>0.656802</td>\n",
       "      <td>31.981538</td>\n",
       "    </tr>\n",
       "    <tr>\n",
       "      <th>43</th>\n",
       "      <td>43</td>\n",
       "      <td>30</td>\n",
       "      <td>relu</td>\n",
       "      <td>adam</td>\n",
       "      <td>32</td>\n",
       "      <td>20</td>\n",
       "      <td>0.619754</td>\n",
       "      <td>0.655288</td>\n",
       "      <td>34.197620</td>\n",
       "    </tr>\n",
       "    <tr>\n",
       "      <th>45</th>\n",
       "      <td>45</td>\n",
       "      <td>20</td>\n",
       "      <td>relu</td>\n",
       "      <td>rmsprop</td>\n",
       "      <td>32</td>\n",
       "      <td>20</td>\n",
       "      <td>0.623814</td>\n",
       "      <td>0.655204</td>\n",
       "      <td>34.239992</td>\n",
       "    </tr>\n",
       "    <tr>\n",
       "      <th>97</th>\n",
       "      <td>97</td>\n",
       "      <td>30</td>\n",
       "      <td>relu</td>\n",
       "      <td>adam</td>\n",
       "      <td>64</td>\n",
       "      <td>30</td>\n",
       "      <td>0.619613</td>\n",
       "      <td>0.654868</td>\n",
       "      <td>36.990686</td>\n",
       "    </tr>\n",
       "  </tbody>\n",
       "</table>\n",
       "</div>"
      ],
      "text/plain": [
       "    Unnamed: 0  nodes activation_function optimizer  batch_size  epochs  \\\n",
       "83          83     40                relu   rmsprop          32      30   \n",
       "99          99     20                relu   rmsprop          64      30   \n",
       "43          43     30                relu      adam          32      20   \n",
       "45          45     20                relu   rmsprop          32      20   \n",
       "97          97     30                relu      adam          64      30   \n",
       "\n",
       "        loss  test_score       time  \n",
       "83  0.621184    0.659240  55.839856  \n",
       "99  0.620592    0.656802  31.981538  \n",
       "43  0.619754    0.655288  34.197620  \n",
       "45  0.623814    0.655204  34.239992  \n",
       "97  0.619613    0.654868  36.990686  "
      ]
     },
     "execution_count": 24,
     "metadata": {},
     "output_type": "execute_result"
    }
   ],
   "source": [
    "(df1_ANN.sort_values(by='test_score',ascending=False)).head(5)"
   ]
  },
  {
   "cell_type": "markdown",
   "metadata": {},
   "source": [
    "#### Findings:\n",
    "1. The best test score is 65.9 with hyoer paramters of 40 nodes, relu as activation function of hidden layer , rmrprop as optimizer and batch size of 32.\n",
    "2. The computational time for best iteration is  secs."
   ]
  },
  {
   "cell_type": "markdown",
   "metadata": {},
   "source": [
    "#### Plots containing comparision of various hyperparamaters"
   ]
  },
  {
   "cell_type": "code",
   "execution_count": 23,
   "metadata": {},
   "outputs": [
    {
     "data": {
      "image/png": "[encoded data removed]",
      "text/plain": [
       "<matplotlib.figure.Figure at 0x1fcab771c88>"
      ]
     },
     "metadata": {},
     "output_type": "display_data"
    }
   ],
   "source": [
    "plt.figure(figsize=(20,20))\n",
    "plt.subplot(4,2,1)\n",
    "sns.stripplot('nodes','test_score',hue='epochs',data=df1_ANN)\n",
    "plt.xlabel('nodes')\n",
    "plt.ylabel('test_score')\n",
    "plt.title('plot showing nodes vs test_score')\n",
    "plt.subplot(4,2,2)\n",
    "sns.stripplot('nodes','loss',hue='epochs',data=df1_ANN)\n",
    "plt.xlabel('nodes')\n",
    "plt.ylabel('loss')\n",
    "plt.title('plot showing nodes vs loss')\n",
    "plt.subplot(4,2,3)\n",
    "sns.stripplot('batch_size','test_score',hue='optimizer',data=df1_ANN)\n",
    "plt.xlabel('batch_size')\n",
    "plt.ylabel('test_score')\n",
    "plt.title('plot showing batch_size vs test_score colored by optimizer')\n",
    "plt.subplot(4,2,4)\n",
    "sns.stripplot('batch_size','loss',hue='optimizer',data=df1_ANN)\n",
    "plt.xlabel('batch_size')\n",
    "plt.ylabel('loss')\n",
    "plt.title('plot showing batch_size vs loss colored by optimizer')\n",
    "plt.subplot(4,2,5)\n",
    "sns.stripplot('epochs','time',hue='optimizer',data=df1_ANN)\n",
    "plt.xlabel('epochs')\n",
    "plt.ylabel('time')\n",
    "plt.title('plot showing epochs vs time colored by optimizer')\n",
    "plt.subplot(4,2,6)\n",
    "sns.stripplot('epochs','time',hue='activation_function',data=df1_ANN)\n",
    "plt.xlabel('epochs')\n",
    "plt.ylabel('time')\n",
    "plt.title('plot showing epochs vs time colored by activation_fuction')\n",
    "plt.subplot(4,2,7)\n",
    "sns.stripplot('time','test_score',hue='nodes',data=df1_ANN)\n",
    "plt.xlabel('time')\n",
    "plt.ylabel('test_score')\n",
    "plt.title('plot showing time vs test_score colored by nodes')\n",
    "plt.subplot(4,2,8)\n",
    "sns.stripplot('time','loss',hue='nodes',data=df1_ANN)\n",
    "plt.xlabel('time')\n",
    "plt.ylabel('loss')\n",
    "plt.title('plot showing time vs loss colored by nodes')\n",
    "plt.show()"
   ]
  },
  {
   "cell_type": "markdown",
   "metadata": {},
   "source": [
    "#### Findings:\n",
    "1. There is a general upward trend in test_score as time increases with more number of nodes achieving better results.\n",
    "2. There is a general downward trend in loss as time increases with 30 nodes achieving better results.\n",
    "3. msprop takes more time compared to adam\n",
    "4. tanh activation function is computationally expensive compared to sigmoid and ReLU\n",
    "5. msprop achieved test_score compared to adam optimizer.\n",
    "6. With increasing number of nodes theres is increase in test_score \n",
    "7. Increasing batch size decreased test score"
   ]
  },
  {
   "cell_type": "code",
   "execution_count": null,
   "metadata": {},
   "outputs": [],
   "source": []
  },
  {
   "cell_type": "code",
   "execution_count": null,
   "metadata": {},
   "outputs": [],
   "source": []
  },
  {
   "cell_type": "markdown",
   "metadata": {},
   "source": [
    "### Second data set"
   ]
  },
  {
   "cell_type": "code",
   "execution_count": 77,
   "metadata": {},
   "outputs": [],
   "source": [
    "data1=pd.read_csv('census.csv')"
   ]
  },
  {
   "cell_type": "code",
   "execution_count": 78,
   "metadata": {},
   "outputs": [
    {
     "name": "stdout",
     "output_type": "stream",
     "text": [
      "<class 'pandas.core.frame.DataFrame'>\n",
      "RangeIndex: 45222 entries, 0 to 45221\n",
      "Data columns (total 14 columns):\n",
      "age                45222 non-null int64\n",
      "workclass          45222 non-null object\n",
      "education_level    45222 non-null object\n",
      "education-num      45222 non-null float64\n",
      "marital-status     45222 non-null object\n",
      "occupation         45222 non-null object\n",
      "relationship       45222 non-null object\n",
      "race               45222 non-null object\n",
      "sex                45222 non-null object\n",
      "capital-gain       45222 non-null float64\n",
      "capital-loss       45222 non-null float64\n",
      "hours-per-week     45222 non-null float64\n",
      "native-country     45222 non-null object\n",
      "income             45222 non-null object\n",
      "dtypes: float64(4), int64(1), object(9)\n",
      "memory usage: 4.8+ MB\n"
     ]
    }
   ],
   "source": [
    "data1.info()"
   ]
  },
  {
   "cell_type": "code",
   "execution_count": 79,
   "metadata": {},
   "outputs": [
    {
     "data": {
      "text/html": [
       "<div>\n",
       "<style scoped>\n",
       "    .dataframe tbody tr th:only-of-type {\n",
       "        vertical-align: middle;\n",
       "    }\n",
       "\n",
       "    .dataframe tbody tr th {\n",
       "        vertical-align: top;\n",
       "    }\n",
       "\n",
       "    .dataframe thead th {\n",
       "        text-align: right;\n",
       "    }\n",
       "</style>\n",
       "<table border=\"1\" class=\"dataframe\">\n",
       "  <thead>\n",
       "    <tr style=\"text-align: right;\">\n",
       "      <th></th>\n",
       "      <th>age</th>\n",
       "      <th>workclass</th>\n",
       "      <th>education_level</th>\n",
       "      <th>education-num</th>\n",
       "      <th>marital-status</th>\n",
       "      <th>occupation</th>\n",
       "      <th>relationship</th>\n",
       "      <th>race</th>\n",
       "      <th>sex</th>\n",
       "      <th>capital-gain</th>\n",
       "      <th>capital-loss</th>\n",
       "      <th>hours-per-week</th>\n",
       "      <th>native-country</th>\n",
       "      <th>income</th>\n",
       "    </tr>\n",
       "  </thead>\n",
       "  <tbody>\n",
       "    <tr>\n",
       "      <th>0</th>\n",
       "      <td>39</td>\n",
       "      <td>State-gov</td>\n",
       "      <td>Bachelors</td>\n",
       "      <td>13.0</td>\n",
       "      <td>Never-married</td>\n",
       "      <td>Adm-clerical</td>\n",
       "      <td>Not-in-family</td>\n",
       "      <td>White</td>\n",
       "      <td>Male</td>\n",
       "      <td>2174.0</td>\n",
       "      <td>0.0</td>\n",
       "      <td>40.0</td>\n",
       "      <td>United-States</td>\n",
       "      <td>&lt;=50K</td>\n",
       "    </tr>\n",
       "    <tr>\n",
       "      <th>1</th>\n",
       "      <td>50</td>\n",
       "      <td>Self-emp-not-inc</td>\n",
       "      <td>Bachelors</td>\n",
       "      <td>13.0</td>\n",
       "      <td>Married-civ-spouse</td>\n",
       "      <td>Exec-managerial</td>\n",
       "      <td>Husband</td>\n",
       "      <td>White</td>\n",
       "      <td>Male</td>\n",
       "      <td>0.0</td>\n",
       "      <td>0.0</td>\n",
       "      <td>13.0</td>\n",
       "      <td>United-States</td>\n",
       "      <td>&lt;=50K</td>\n",
       "    </tr>\n",
       "    <tr>\n",
       "      <th>2</th>\n",
       "      <td>38</td>\n",
       "      <td>Private</td>\n",
       "      <td>HS-grad</td>\n",
       "      <td>9.0</td>\n",
       "      <td>Divorced</td>\n",
       "      <td>Handlers-cleaners</td>\n",
       "      <td>Not-in-family</td>\n",
       "      <td>White</td>\n",
       "      <td>Male</td>\n",
       "      <td>0.0</td>\n",
       "      <td>0.0</td>\n",
       "      <td>40.0</td>\n",
       "      <td>United-States</td>\n",
       "      <td>&lt;=50K</td>\n",
       "    </tr>\n",
       "    <tr>\n",
       "      <th>3</th>\n",
       "      <td>53</td>\n",
       "      <td>Private</td>\n",
       "      <td>11th</td>\n",
       "      <td>7.0</td>\n",
       "      <td>Married-civ-spouse</td>\n",
       "      <td>Handlers-cleaners</td>\n",
       "      <td>Husband</td>\n",
       "      <td>Black</td>\n",
       "      <td>Male</td>\n",
       "      <td>0.0</td>\n",
       "      <td>0.0</td>\n",
       "      <td>40.0</td>\n",
       "      <td>United-States</td>\n",
       "      <td>&lt;=50K</td>\n",
       "    </tr>\n",
       "    <tr>\n",
       "      <th>4</th>\n",
       "      <td>28</td>\n",
       "      <td>Private</td>\n",
       "      <td>Bachelors</td>\n",
       "      <td>13.0</td>\n",
       "      <td>Married-civ-spouse</td>\n",
       "      <td>Prof-specialty</td>\n",
       "      <td>Wife</td>\n",
       "      <td>Black</td>\n",
       "      <td>Female</td>\n",
       "      <td>0.0</td>\n",
       "      <td>0.0</td>\n",
       "      <td>40.0</td>\n",
       "      <td>Cuba</td>\n",
       "      <td>&lt;=50K</td>\n",
       "    </tr>\n",
       "  </tbody>\n",
       "</table>\n",
       "</div>"
      ],
      "text/plain": [
       "   age          workclass education_level  education-num       marital-status  \\\n",
       "0   39          State-gov       Bachelors           13.0        Never-married   \n",
       "1   50   Self-emp-not-inc       Bachelors           13.0   Married-civ-spouse   \n",
       "2   38            Private         HS-grad            9.0             Divorced   \n",
       "3   53            Private            11th            7.0   Married-civ-spouse   \n",
       "4   28            Private       Bachelors           13.0   Married-civ-spouse   \n",
       "\n",
       "           occupation    relationship    race      sex  capital-gain  \\\n",
       "0        Adm-clerical   Not-in-family   White     Male        2174.0   \n",
       "1     Exec-managerial         Husband   White     Male           0.0   \n",
       "2   Handlers-cleaners   Not-in-family   White     Male           0.0   \n",
       "3   Handlers-cleaners         Husband   Black     Male           0.0   \n",
       "4      Prof-specialty            Wife   Black   Female           0.0   \n",
       "\n",
       "   capital-loss  hours-per-week  native-country income  \n",
       "0           0.0            40.0   United-States  <=50K  \n",
       "1           0.0            13.0   United-States  <=50K  \n",
       "2           0.0            40.0   United-States  <=50K  \n",
       "3           0.0            40.0   United-States  <=50K  \n",
       "4           0.0            40.0            Cuba  <=50K  "
      ]
     },
     "execution_count": 79,
     "metadata": {},
     "output_type": "execute_result"
    }
   ],
   "source": [
    "data1.head()"
   ]
  },
  {
   "cell_type": "code",
   "execution_count": 80,
   "metadata": {},
   "outputs": [],
   "source": [
    "income_raw = data1['income']\n",
    "features_raw = data1.drop('income', axis = 1)"
   ]
  },
  {
   "cell_type": "code",
   "execution_count": 81,
   "metadata": {},
   "outputs": [],
   "source": [
    "#log transforming numerical money features capital-gain and capital-loss. Added 1 as some values are 0.\n",
    "skewed = ['capital-gain', 'capital-loss']\n",
    "features_raw[skewed] = data1[skewed].apply(lambda x: np.log(x + 1))"
   ]
  },
  {
   "cell_type": "code",
   "execution_count": 82,
   "metadata": {},
   "outputs": [],
   "source": [
    "#Scaling of numerical features\n",
    "from sklearn.preprocessing import MinMaxScaler\n",
    "scaler = MinMaxScaler()\n",
    "numerical = ['age', 'education-num', 'capital-gain', 'capital-loss', 'hours-per-week']\n",
    "features_raw[numerical] = scaler.fit_transform(data1[numerical])"
   ]
  },
  {
   "cell_type": "markdown",
   "metadata": {},
   "source": [
    "#### Task 1: conversion of income to two classes based on whether its greater than 50k.\n",
    "As variables like work class, education_level, sex etc are categorical, they are converted to dummy variables and one dummy variable is dropped for each original variable to get rid of dummy trap "
   ]
  },
  {
   "cell_type": "code",
   "execution_count": 83,
   "metadata": {},
   "outputs": [],
   "source": [
    "features1 = pd.get_dummies(features_raw,drop_first=True)\n",
    "income = income_raw.apply(lambda x: 1 if x == '>50K' else 0)"
   ]
  },
  {
   "cell_type": "markdown",
   "metadata": {},
   "source": [
    "#### Task3: Dividing data into test and train sets."
   ]
  },
  {
   "cell_type": "code",
   "execution_count": 84,
   "metadata": {},
   "outputs": [],
   "source": [
    "# Splitting data into test and train\n",
    "from sklearn.model_selection import train_test_split\n",
    "from sklearn.metrics import accuracy_score\n",
    "X_train1, X_test1, y_train1, y_test1 = train_test_split(features1, income, test_size=0.3, random_state=123)"
   ]
  },
  {
   "cell_type": "markdown",
   "metadata": {},
   "source": [
    "#### Implementing knn algo for secind dataset with default parameters"
   ]
  },
  {
   "cell_type": "code",
   "execution_count": 85,
   "metadata": {},
   "outputs": [
    {
     "name": "stdout",
     "output_type": "stream",
     "text": [
      "0.8211837546989017 24.78530297436373\n"
     ]
    }
   ],
   "source": [
    "import time\n",
    "time_start=time.clock()\n",
    "model2_1=KNeighborsClassifier()\n",
    "model2_1.fit(X_train1,y_train1)\n",
    "y_pred1=model2_1.predict(X_test1)\n",
    "accuracy=accuracy_score(y_test1,y_pred1)\n",
    "time_elapsed = (time.clock() - time_start)\n",
    "print(accuracy, time_elapsed)"
   ]
  },
  {
   "cell_type": "code",
   "execution_count": 91,
   "metadata": {},
   "outputs": [],
   "source": [
    "def knn(n,weight,algo,metric,X_train,y_train,X_test,y_test):\n",
    "    import time\n",
    "    time_start=time.clock()\n",
    "    model1=KNeighborsClassifier(n_neighbors = n, weights = weight, algorithm = algo, p = metric )\n",
    "    model1.fit(X_train,y_train)\n",
    "    y_pred_train=model1.predict(X_train)\n",
    "    y_pred_test=model1.predict(X_test)\n",
    "    S_train=accuracy_score(y_train,y_pred_train)\n",
    "    S_test=accuracy_score(y_test,y_pred_test)\n",
    "    time_elapsed = (time.clock() - time_start)\n",
    "    time_taken.append(time_elapsed)\n",
    "    train_score.append(S_train)\n",
    "    test_score.append(S_test)\n",
    "    neighbours.append(n)\n",
    "    weight_function.append(weight)\n",
    "    algo_type.append(algo)\n",
    "    dist_metric.append(metric)\n",
    "    print(n,weight,algo,metric,S_test,time_elapsed)"
   ]
  },
  {
   "cell_type": "markdown",
   "metadata": {},
   "source": [
    "#### Experimentation of knn with metrics n=[1,2,5,10,15,25,50,100] weights=['uniform','distance'] algorithms=['auto'] metrics = [1,2]"
   ]
  },
  {
   "cell_type": "code",
   "execution_count": 92,
   "metadata": {
    "scrolled": true
   },
   "outputs": [
    {
     "name": "stdout",
     "output_type": "stream",
     "text": [
      "1 uniform auto 1 0.7908159504680474 36.51363200000196\n",
      "1 uniform auto 2 0.7887521191125525 43.633805538462184\n",
      "1 distance auto 1 0.7908159504680474 37.8045300512822\n",
      "1 distance auto 2 0.7887521191125525 43.78889189743495\n",
      "2 uniform auto 1 0.8088744748286283 50.81892841025547\n",
      "2 uniform auto 2 0.8076214343627921 63.023345641027845\n",
      "2 distance auto 1 0.7948699049163411 49.21638276923477\n",
      "2 distance auto 2 0.7927323652981499 55.483887179485464\n",
      "5 uniform auto 1 0.8231001695290042 65.07676717948925\n",
      "5 uniform auto 2 0.8211837546989017 77.01374810256675\n",
      "5 distance auto 1 0.8125598879634407 68.80648041025415\n",
      "5 distance auto 2 0.8099063905063758 87.32140553845966\n",
      "10 uniform auto 1 0.8314292032136803 97.44425682051224\n",
      "10 uniform auto 2 0.8309132453748065 114.46440697435901\n",
      "10 distance auto 1 0.8188250902926218 103.18559384615946\n",
      "10 distance auto 2 0.8164664258863419 109.42024615384435\n",
      "15 uniform auto 1 0.8354831576619739 90.75073107692151\n",
      "15 uniform auto 2 0.8332719097810865 106.10538338461629\n",
      "15 distance auto 1 0.8236898356305742 91.04525210256543\n",
      "15 distance auto 2 0.8214048794869905 105.97092758974759\n",
      "25 uniform auto 1 0.833419326306479 104.94155241025146\n",
      "25 uniform auto 2 0.833419326306479 120.95727794872073\n",
      "25 distance auto 1 0.8241320852067516 107.54196143589797\n",
      "25 distance auto 2 0.8236898356305742 125.23471507692011\n",
      "50 uniform auto 1 0.8327559519422127 142.8827766153845\n",
      "50 uniform auto 2 0.8320188693152503 153.44516676923377\n",
      "50 distance auto 1 0.8267855826638166 128.8730843076919\n",
      "50 distance auto 2 0.8257536669860691 148.17581169230834\n",
      "100 uniform auto 1 0.8331982015183902 159.80774112820654\n",
      "100 uniform auto 2 0.8317977445271615 183.62600492307683\n",
      "100 distance auto 1 0.8259747917741579 157.76292471795023\n",
      "100 distance auto 2 0.8254588339352842 180.58371651281777\n"
     ]
    }
   ],
   "source": [
    "n=[1,2,5,10,15,25,50,100]\n",
    "weights=['uniform','distance']\n",
    "algorithms=['auto']\n",
    "metrics = [1,2]\n",
    "train_score=[]\n",
    "test_score=[]\n",
    "time_taken=[]\n",
    "neighbours=[]\n",
    "weight_function=[]\n",
    "algo_type=[]\n",
    "dist_metric=[]\n",
    "for n in n:\n",
    "    for weight in weights:\n",
    "        for algo in algorithms:\n",
    "            for metric in metrics:\n",
    "                knn(n,weight,algo,metric,X_train1,y_train1,X_test1,y_test1)\n",
    "df2_knn=pd.DataFrame()\n",
    "df2_knn['no_neighbours']=neighbours\n",
    "df2_knn['weight_function']=weight_function\n",
    "df2_knn['algo_type']=algo_type\n",
    "df2_knn['dist_metric']=dist_metric\n",
    "df2_knn['train_score']=train_score\n",
    "df2_knn['test_score']=test_score\n",
    "df2_knn['train_error']=1-df2_knn['train_score']\n",
    "df2_knn['test_error']=1-df2_knn['test_score']\n",
    "df2_knn['time']=time_taken"
   ]
  },
  {
   "cell_type": "code",
   "execution_count": 93,
   "metadata": {},
   "outputs": [
    {
     "data": {
      "text/plain": [
       "3210.7213362051407"
      ]
     },
     "execution_count": 93,
     "metadata": {},
     "output_type": "execute_result"
    }
   ],
   "source": [
    "df2_knn['time'].sum()"
   ]
  },
  {
   "cell_type": "markdown",
   "metadata": {},
   "source": [
    "#### Dataframe showing the top 5 test scores of knn for second dataset"
   ]
  },
  {
   "cell_type": "code",
   "execution_count": 94,
   "metadata": {},
   "outputs": [
    {
     "data": {
      "text/html": [
       "<div>\n",
       "<style scoped>\n",
       "    .dataframe tbody tr th:only-of-type {\n",
       "        vertical-align: middle;\n",
       "    }\n",
       "\n",
       "    .dataframe tbody tr th {\n",
       "        vertical-align: top;\n",
       "    }\n",
       "\n",
       "    .dataframe thead th {\n",
       "        text-align: right;\n",
       "    }\n",
       "</style>\n",
       "<table border=\"1\" class=\"dataframe\">\n",
       "  <thead>\n",
       "    <tr style=\"text-align: right;\">\n",
       "      <th></th>\n",
       "      <th>no_neighbours</th>\n",
       "      <th>weight_function</th>\n",
       "      <th>algo_type</th>\n",
       "      <th>dist_metric</th>\n",
       "      <th>train_score</th>\n",
       "      <th>test_score</th>\n",
       "      <th>train_error</th>\n",
       "      <th>test_error</th>\n",
       "      <th>time</th>\n",
       "    </tr>\n",
       "  </thead>\n",
       "  <tbody>\n",
       "    <tr>\n",
       "      <th>16</th>\n",
       "      <td>15</td>\n",
       "      <td>uniform</td>\n",
       "      <td>auto</td>\n",
       "      <td>1</td>\n",
       "      <td>0.848334</td>\n",
       "      <td>0.835483</td>\n",
       "      <td>0.151666</td>\n",
       "      <td>0.164517</td>\n",
       "      <td>90.750731</td>\n",
       "    </tr>\n",
       "    <tr>\n",
       "      <th>21</th>\n",
       "      <td>25</td>\n",
       "      <td>uniform</td>\n",
       "      <td>auto</td>\n",
       "      <td>2</td>\n",
       "      <td>0.842774</td>\n",
       "      <td>0.833419</td>\n",
       "      <td>0.157226</td>\n",
       "      <td>0.166581</td>\n",
       "      <td>120.957278</td>\n",
       "    </tr>\n",
       "    <tr>\n",
       "      <th>20</th>\n",
       "      <td>25</td>\n",
       "      <td>uniform</td>\n",
       "      <td>auto</td>\n",
       "      <td>1</td>\n",
       "      <td>0.843563</td>\n",
       "      <td>0.833419</td>\n",
       "      <td>0.156437</td>\n",
       "      <td>0.166581</td>\n",
       "      <td>104.941552</td>\n",
       "    </tr>\n",
       "    <tr>\n",
       "      <th>17</th>\n",
       "      <td>15</td>\n",
       "      <td>uniform</td>\n",
       "      <td>auto</td>\n",
       "      <td>2</td>\n",
       "      <td>0.847860</td>\n",
       "      <td>0.833272</td>\n",
       "      <td>0.152140</td>\n",
       "      <td>0.166728</td>\n",
       "      <td>106.105383</td>\n",
       "    </tr>\n",
       "    <tr>\n",
       "      <th>28</th>\n",
       "      <td>100</td>\n",
       "      <td>uniform</td>\n",
       "      <td>auto</td>\n",
       "      <td>1</td>\n",
       "      <td>0.832444</td>\n",
       "      <td>0.833198</td>\n",
       "      <td>0.167556</td>\n",
       "      <td>0.166802</td>\n",
       "      <td>159.807741</td>\n",
       "    </tr>\n",
       "  </tbody>\n",
       "</table>\n",
       "</div>"
      ],
      "text/plain": [
       "    no_neighbours weight_function algo_type  dist_metric  train_score  \\\n",
       "16             15         uniform      auto            1     0.848334   \n",
       "21             25         uniform      auto            2     0.842774   \n",
       "20             25         uniform      auto            1     0.843563   \n",
       "17             15         uniform      auto            2     0.847860   \n",
       "28            100         uniform      auto            1     0.832444   \n",
       "\n",
       "    test_score  train_error  test_error        time  \n",
       "16    0.835483     0.151666    0.164517   90.750731  \n",
       "21    0.833419     0.157226    0.166581  120.957278  \n",
       "20    0.833419     0.156437    0.166581  104.941552  \n",
       "17    0.833272     0.152140    0.166728  106.105383  \n",
       "28    0.833198     0.167556    0.166802  159.807741  "
      ]
     },
     "execution_count": 94,
     "metadata": {},
     "output_type": "execute_result"
    }
   ],
   "source": [
    "(df2_knn.sort_values(by='test_score',ascending=False)).head(5)"
   ]
  },
  {
   "cell_type": "markdown",
   "metadata": {},
   "source": [
    "#### Findings:\n",
    "1. The best test score is 83.54 with 15 neighbours, auto algorithms and dist metric of 1\n",
    "2. Computational time for best metric is 90.75 secs."
   ]
  },
  {
   "cell_type": "markdown",
   "metadata": {},
   "source": [
    "#### Plots showing comparisions of various hyperparameters"
   ]
  },
  {
   "cell_type": "code",
   "execution_count": 138,
   "metadata": {},
   "outputs": [
    {
     "data": {
      "image/png": "[encoded data removed]",
      "text/plain": [
       "<matplotlib.figure.Figure at 0x2769c5eeb70>"
      ]
     },
     "metadata": {},
     "output_type": "display_data"
    }
   ],
   "source": [
    "plt.figure(figsize=(20,20))\n",
    "plt.subplot(2,2,1)\n",
    "plt.scatter('no_neighbours','test_score',data=df2_knn,color='r')\n",
    "plt.scatter('no_neighbours','train_score',data=df2_knn,color='b')\n",
    "plt.xlabel('no_neighbours')\n",
    "plt.ylabel('score')\n",
    "plt.title('plot showing no_neighbours vs score')\n",
    "plt.legend(loc='upper right')\n",
    "plt.subplot(2,2,2)\n",
    "plt.scatter('no_neighbours','test_error',data=df2_knn,color='r')\n",
    "plt.scatter('no_neighbours','train_error',data=df2_knn,color='b')\n",
    "plt.xlabel('no_neighbours')\n",
    "plt.ylabel('error')\n",
    "plt.title('plot showing no_neighbours vs error')\n",
    "plt.legend(loc='upper right')\n",
    "plt.subplot(2,2,3)\n",
    "sns.stripplot('no_neighbours','time',hue='weight_function',data=df2_knn)\n",
    "plt.xlabel('no_neighbours')\n",
    "plt.ylabel('time')\n",
    "plt.title('plot showing no_neighbours vs time colored by weight_func')\n",
    "plt.legend(loc='upper right')\n",
    "plt.subplot(2,2,4)\n",
    "sns.stripplot('dist_metric','train_score',hue='weight_function',data=df2_knn)\n",
    "plt.xlabel('dist_metric')\n",
    "plt.ylabel('train_score')\n",
    "plt.title('plot showing dist_metric vs train_score colored by weight_function')\n",
    "plt.legend(loc='upper right')\n",
    "plt.show()"
   ]
  },
  {
   "cell_type": "markdown",
   "metadata": {},
   "source": [
    "#### Findings:\n",
    "1. Distance as a weight metric gave a test_score of !.98 across all parameters suggesting over-fitting\n",
    "2. From graph 1, at around 15 neighbours, there is very less difference between train and test score and this seems to be the best test_score as evidenced by the output dataframe.\n",
    "3. With increase in number of neighgbours, both uniform and distance weight metrics increased in computational time proportionally."
   ]
  },
  {
   "cell_type": "markdown",
   "metadata": {},
   "source": [
    "#### Implementation of artificial neural network with default parameters."
   ]
  },
  {
   "cell_type": "code",
   "execution_count": 95,
   "metadata": {},
   "outputs": [
    {
     "name": "stdout",
     "output_type": "stream",
     "text": [
      "Epoch 1/10\n",
      "31655/31655 [==============================] - 13s 417us/step - loss: 0.3810 - acc: 0.8222\n",
      "Epoch 2/10\n",
      "31655/31655 [==============================] - 4s 129us/step - loss: 0.3477 - acc: 0.8387\n",
      "Epoch 3/10\n",
      "31655/31655 [==============================] - 4s 132us/step - loss: 0.3394 - acc: 0.8431\n",
      "Epoch 4/10\n",
      "31655/31655 [==============================] - 4s 122us/step - loss: 0.3339 - acc: 0.8459\n",
      "Epoch 5/10\n",
      "31655/31655 [==============================] - 4s 128us/step - loss: 0.3311 - acc: 0.8453\n",
      "Epoch 6/10\n",
      "31655/31655 [==============================] - 4s 129us/step - loss: 0.3301 - acc: 0.8468\n",
      "Epoch 7/10\n",
      "31655/31655 [==============================] - 4s 126us/step - loss: 0.3285 - acc: 0.8464\n",
      "Epoch 8/10\n",
      "31655/31655 [==============================] - 4s 129us/step - loss: 0.3278 - acc: 0.8474\n",
      "Epoch 9/10\n",
      "31655/31655 [==============================] - 4s 128us/step - loss: 0.3272 - acc: 0.8475\n",
      "Epoch 10/10\n",
      "31655/31655 [==============================] - 4s 125us/step - loss: 0.3269 - acc: 0.8478\n",
      "13567/13567 [==============================] - 1s 57us/step\n",
      "\n",
      "Loss:  0.3249621218571642\n",
      "\n",
      "Accuracy:  0.8462445639541192\n"
     ]
    }
   ],
   "source": [
    "xor1 = Sequential()\n",
    "\n",
    "# Add required layers\n",
    "xor1.add(Dense(30,input_dim=X_train1.shape[1]))\n",
    "xor1.add(Activation('tanh'))\n",
    "xor1.add(Dense(1))\n",
    "xor1.add(Activation(\"sigmoid\"))\n",
    "\n",
    "\n",
    "xor1.compile(loss=\"binary_crossentropy\", optimizer=\"adam\", metrics = ['accuracy'])\n",
    "history = xor1.fit(X_train1, y_train1, epochs=10, verbose=1)\n",
    "score = xor1.evaluate(X_test1, y_test1)\n",
    "\n",
    "print(\"\\nLoss: \", score[0])\n",
    "print(\"\\nAccuracy: \", score[1])"
   ]
  },
  {
   "cell_type": "code",
   "execution_count": 98,
   "metadata": {},
   "outputs": [
    {
     "data": {
      "text/plain": [
       "95"
      ]
     },
     "execution_count": 98,
     "metadata": {},
     "output_type": "execute_result"
    }
   ],
   "source": [
    "X_train1.shape[1]"
   ]
  },
  {
   "cell_type": "code",
   "execution_count": 107,
   "metadata": {},
   "outputs": [],
   "source": [
    "nodes=[40,50,60]\n",
    "activation_func=['sigmoid','relu','tanh']\n",
    "optimizer=['adam','rmsprop']\n",
    "batch_size = [32,64]\n",
    "epochs = [10,20,30]\n",
    "\n",
    "def ANN(nodes,activation_func,optimizer,batch_size,epochs,X_train,y_train,X_test,y_test):\n",
    "    import time\n",
    "    time_start=time.clock()\n",
    "    model2 = Sequential()\n",
    "    #model2.add(Dense(output_dim=nodes, input_dim=input_d, activation=activation_func))\n",
    "    model2.add(Dense(output_dim = int(nodes), activation = activation_func, input_dim = 95))\n",
    "        \n",
    "    model2.add(Dense(1, activation='sigmoid'))\n",
    "    model2.compile(loss='binary_crossentropy', optimizer=optimizer, metrics=['accuracy'])\n",
    "    model2.fit(X_train, y_train, epochs=epochs,batch_size=batch_size,validation_split=0.2, verbose=0)\n",
    "    score = model2.evaluate(X_test, y_test)\n",
    "    S_test=score[1]\n",
    "    S_loss=score[0]\n",
    "    time_elapsed = (time.clock() - time_start)\n",
    "    time_taken.append(time_elapsed)\n",
    "    test_score.append(S_test)\n",
    "    test_loss.append(S_loss)\n",
    "    nodes_.append(nodes)\n",
    "    activation_func_.append(activation_func)\n",
    "    optimizer_.append(optimizer)\n",
    "    batch_size_.append(batch_size)\n",
    "    epochs_.append(epochs)\n",
    "    return print(es)"
   ]
  },
  {
   "cell_type": "markdown",
   "metadata": {},
   "source": [
    "#### Experimentation of ANN for second dataset with nodes=[40,50,60] activation_func=['sigmoid','relu','tanh'] optimizer=['adam','rmsprop'] batch_size = [32,64] epochs = [10,20,30]"
   ]
  },
  {
   "cell_type": "code",
   "execution_count": 108,
   "metadata": {
    "scrolled": true
   },
   "outputs": [
    {
     "name": "stderr",
     "output_type": "stream",
     "text": [
      "C:\\Users\\pvloh\\Anaconda3\\lib\\site-packages\\ipykernel_launcher.py:12: UserWarning: Update your `Dense` call to the Keras 2 API: `Dense(activation=\"sigmoid\", input_dim=95, units=40)`\n",
      "  if sys.path[0] == '':\n"
     ]
    },
    {
     "name": "stdout",
     "output_type": "stream",
     "text": [
      "13567/13567 [==============================] - 1s 78us/step\n",
      "10\n"
     ]
    },
    {
     "name": "stderr",
     "output_type": "stream",
     "text": [
      "C:\\Users\\pvloh\\Anaconda3\\lib\\site-packages\\ipykernel_launcher.py:12: UserWarning: Update your `Dense` call to the Keras 2 API: `Dense(activation=\"sigmoid\", input_dim=95, units=50)`\n",
      "  if sys.path[0] == '':\n"
     ]
    },
    {
     "name": "stdout",
     "output_type": "stream",
     "text": [
      "13567/13567 [==============================] - 1s 84us/step\n",
      "10\n"
     ]
    },
    {
     "name": "stderr",
     "output_type": "stream",
     "text": [
      "C:\\Users\\pvloh\\Anaconda3\\lib\\site-packages\\ipykernel_launcher.py:12: UserWarning: Update your `Dense` call to the Keras 2 API: `Dense(activation=\"sigmoid\", input_dim=95, units=60)`\n",
      "  if sys.path[0] == '':\n"
     ]
    },
    {
     "name": "stdout",
     "output_type": "stream",
     "text": [
      "13567/13567 [==============================] - 1s 85us/step\n",
      "10\n",
      "13567/13567 [==============================] - 1s 84us/step\n",
      "10\n",
      "13567/13567 [==============================] - 1s 89us/step\n",
      "10\n",
      "13567/13567 [==============================] - 1s 89us/step\n",
      "10\n"
     ]
    },
    {
     "name": "stderr",
     "output_type": "stream",
     "text": [
      "C:\\Users\\pvloh\\Anaconda3\\lib\\site-packages\\ipykernel_launcher.py:12: UserWarning: Update your `Dense` call to the Keras 2 API: `Dense(activation=\"relu\", input_dim=95, units=40)`\n",
      "  if sys.path[0] == '':\n"
     ]
    },
    {
     "name": "stdout",
     "output_type": "stream",
     "text": [
      "13567/13567 [==============================] - 1s 84us/step\n",
      "10\n"
     ]
    },
    {
     "name": "stderr",
     "output_type": "stream",
     "text": [
      "C:\\Users\\pvloh\\Anaconda3\\lib\\site-packages\\ipykernel_launcher.py:12: UserWarning: Update your `Dense` call to the Keras 2 API: `Dense(activation=\"relu\", input_dim=95, units=50)`\n",
      "  if sys.path[0] == '':\n"
     ]
    },
    {
     "name": "stdout",
     "output_type": "stream",
     "text": [
      "13567/13567 [==============================] - 1s 88us/step\n",
      "10\n"
     ]
    },
    {
     "name": "stderr",
     "output_type": "stream",
     "text": [
      "C:\\Users\\pvloh\\Anaconda3\\lib\\site-packages\\ipykernel_launcher.py:12: UserWarning: Update your `Dense` call to the Keras 2 API: `Dense(activation=\"relu\", input_dim=95, units=60)`\n",
      "  if sys.path[0] == '':\n"
     ]
    },
    {
     "name": "stdout",
     "output_type": "stream",
     "text": [
      "13567/13567 [==============================] - 1s 86us/step\n",
      "10\n",
      "13567/13567 [==============================] - 1s 89us/step\n",
      "10\n",
      "13567/13567 [==============================] - 1s 102us/step\n",
      "10\n",
      "13567/13567 [==============================] - 1s 94us/step\n",
      "10\n"
     ]
    },
    {
     "name": "stderr",
     "output_type": "stream",
     "text": [
      "C:\\Users\\pvloh\\Anaconda3\\lib\\site-packages\\ipykernel_launcher.py:12: UserWarning: Update your `Dense` call to the Keras 2 API: `Dense(activation=\"tanh\", input_dim=95, units=40)`\n",
      "  if sys.path[0] == '':\n"
     ]
    },
    {
     "name": "stdout",
     "output_type": "stream",
     "text": [
      "13567/13567 [==============================] - 1s 90us/step\n",
      "10\n"
     ]
    },
    {
     "name": "stderr",
     "output_type": "stream",
     "text": [
      "C:\\Users\\pvloh\\Anaconda3\\lib\\site-packages\\ipykernel_launcher.py:12: UserWarning: Update your `Dense` call to the Keras 2 API: `Dense(activation=\"tanh\", input_dim=95, units=50)`\n",
      "  if sys.path[0] == '':\n"
     ]
    },
    {
     "name": "stdout",
     "output_type": "stream",
     "text": [
      "13567/13567 [==============================] - 1s 94us/step\n",
      "10\n"
     ]
    },
    {
     "name": "stderr",
     "output_type": "stream",
     "text": [
      "C:\\Users\\pvloh\\Anaconda3\\lib\\site-packages\\ipykernel_launcher.py:12: UserWarning: Update your `Dense` call to the Keras 2 API: `Dense(activation=\"tanh\", input_dim=95, units=60)`\n",
      "  if sys.path[0] == '':\n"
     ]
    },
    {
     "name": "stdout",
     "output_type": "stream",
     "text": [
      "13567/13567 [==============================] - 1s 83us/step\n",
      "10\n",
      "13567/13567 [==============================] - 1s 84us/step\n",
      "10\n",
      "13567/13567 [==============================] - 1s 86us/step\n",
      "10\n",
      "13567/13567 [==============================] - 1s 101us/step\n",
      "10\n",
      "13567/13567 [==============================] - 1s 99us/step\n",
      "10\n",
      "13567/13567 [==============================] - 2s 121us/step\n",
      "10\n",
      "13567/13567 [==============================] - 1s 87us/step\n",
      "10\n",
      "13567/13567 [==============================] - 1s 85us/step\n",
      "10\n",
      "13567/13567 [==============================] - 1s 86us/step\n",
      "10\n",
      "13567/13567 [==============================] - 1s 89us/step\n",
      "10\n",
      "13567/13567 [==============================] - 1s 91us/step\n",
      "10\n",
      "13567/13567 [==============================] - 1s 99us/step\n",
      "10\n",
      "13567/13567 [==============================] - 1s 95us/step\n",
      "10\n",
      "13567/13567 [==============================] - 1s 90us/step\n",
      "10\n",
      "13567/13567 [==============================] - 1s 102us/step\n",
      "10\n",
      "13567/13567 [==============================] - 1s 91us/step\n",
      "10\n",
      "13567/13567 [==============================] - 2s 122us/step\n",
      "10\n",
      "13567/13567 [==============================] - 1s 95us/step\n",
      "10\n",
      "13567/13567 [==============================] - 1s 95us/step\n",
      "10\n",
      "13567/13567 [==============================] - 1s 91us/step\n",
      "10\n",
      "13567/13567 [==============================] - 1s 107us/step\n",
      "10\n",
      "13567/13567 [==============================] - 1s 90us/step\n",
      "10\n",
      "13567/13567 [==============================] - 1s 95us/step\n",
      "20\n",
      "13567/13567 [==============================] - 1s 101us/step\n",
      "20\n",
      "13567/13567 [==============================] - 1s 99us/step\n",
      "20\n",
      "13567/13567 [==============================] - 1s 101us/step\n",
      "20\n",
      "13567/13567 [==============================] - 1s 91us/step\n",
      "20\n",
      "13567/13567 [==============================] - 1s 87us/step\n",
      "20\n",
      "13567/13567 [==============================] - 1s 90us/step\n",
      "20\n",
      "13567/13567 [==============================] - 1s 88us/step\n",
      "20\n",
      "13567/13567 [==============================] - 1s 88us/step\n",
      "20\n",
      "13567/13567 [==============================] - 1s 96us/step\n",
      "20\n",
      "13567/13567 [==============================] - 1s 106us/step\n",
      "20\n",
      "13567/13567 [==============================] - 1s 98us/step\n",
      "20\n",
      "13567/13567 [==============================] - 1s 102us/step\n",
      "20\n",
      "13567/13567 [==============================] - 1s 102us/step\n",
      "20\n",
      "13567/13567 [==============================] - 1s 105us/step\n",
      "20\n",
      "13567/13567 [==============================] - 1s 105us/step\n",
      "20\n",
      "13567/13567 [==============================] - 2s 119us/step\n",
      "20\n",
      "13567/13567 [==============================] - 1s 98us/step\n",
      "20\n",
      "13567/13567 [==============================] - 1s 104us/step\n",
      "20\n",
      "13567/13567 [==============================] - 1s 108us/step\n",
      "20\n",
      "13567/13567 [==============================] - 1s 104us/step\n",
      "20\n",
      "13567/13567 [==============================] - 2s 118us/step\n",
      "20\n",
      "13567/13567 [==============================] - 1s 98us/step\n",
      "20\n",
      "13567/13567 [==============================] - 2s 112us/step\n",
      "20\n",
      "13567/13567 [==============================] - 1s 108us/step\n",
      "20\n",
      "13567/13567 [==============================] - 2s 116us/step\n",
      "20\n",
      "13567/13567 [==============================] - 1s 109us/step\n",
      "20\n",
      "13567/13567 [==============================] - 2s 116us/step\n",
      "20\n",
      "13567/13567 [==============================] - 2s 115us/step\n",
      "20\n",
      "13567/13567 [==============================] - 2s 121us/step\n",
      "20\n",
      "13567/13567 [==============================] - 1s 104us/step\n",
      "20\n",
      "13567/13567 [==============================] - 1s 100us/step\n",
      "20\n",
      "13567/13567 [==============================] - 1s 102us/step\n",
      "20\n",
      "13567/13567 [==============================] - 1s 102us/step\n",
      "20\n",
      "13567/13567 [==============================] - 1s 102us/step\n",
      "20\n",
      "13567/13567 [==============================] - 1s 102us/step\n",
      "20\n",
      "13567/13567 [==============================] - 1s 105us/step\n",
      "30\n",
      "13567/13567 [==============================] - 1s 103us/step\n",
      "30\n",
      "13567/13567 [==============================] - 1s 103us/step\n",
      "30\n",
      "13567/13567 [==============================] - 1s 102us/step\n",
      "30\n",
      "13567/13567 [==============================] - 1s 104us/step\n",
      "30\n",
      "13567/13567 [==============================] - 1s 99us/step\n",
      "30\n",
      "13567/13567 [==============================] - 1s 99us/step\n",
      "30\n",
      "13567/13567 [==============================] - 1s 106us/step\n",
      "30\n",
      "13567/13567 [==============================] - 2s 121us/step\n",
      "30\n",
      "13567/13567 [==============================] - 2s 117us/step\n",
      "30\n",
      "13567/13567 [==============================] - 1s 101us/step\n",
      "30\n",
      "13567/13567 [==============================] - 1s 99us/step\n",
      "30\n",
      "13567/13567 [==============================] - 1s 102us/step\n",
      "30\n",
      "13567/13567 [==============================] - 1s 102us/step\n",
      "30\n",
      "13567/13567 [==============================] - 2s 119us/step\n",
      "30\n",
      "13567/13567 [==============================] - 2s 114us/step\n",
      "30\n",
      "13567/13567 [==============================] - 1s 108us/step\n",
      "30\n",
      "13567/13567 [==============================] - 2s 127us/step\n",
      "30\n",
      "13567/13567 [==============================] - 1s 99us/step\n",
      "30\n",
      "13567/13567 [==============================] - 2s 113us/step\n",
      "30\n",
      "13567/13567 [==============================] - 2s 120us/step\n",
      "30\n",
      "13567/13567 [==============================] - 1s 110us/step\n",
      "30\n",
      "13567/13567 [==============================] - 1s 110us/step\n",
      "30\n",
      "13567/13567 [==============================] - 1s 106us/step\n",
      "30\n",
      "13567/13567 [==============================] - 1s 103us/step\n",
      "30\n",
      "13567/13567 [==============================] - 1s 107us/step\n",
      "30\n",
      "13567/13567 [==============================] - 1s 108us/step\n",
      "30\n",
      "13567/13567 [==============================] - 2s 125us/step\n",
      "30\n",
      "13567/13567 [==============================] - 2s 114us/step\n",
      "30\n",
      "13567/13567 [==============================] - 2s 139us/step\n",
      "30\n",
      "13567/13567 [==============================] - 2s 120us/step\n",
      "30\n",
      "13567/13567 [==============================] - 2s 124us/step\n",
      "30\n",
      "13567/13567 [==============================] - 2s 112us/step\n",
      "30\n",
      "13567/13567 [==============================] - 2s 148us/step\n",
      "30\n",
      "13567/13567 [==============================] - 2s 127us/step\n",
      "30\n",
      "13567/13567 [==============================] - 2s 133us/step\n",
      "30\n"
     ]
    }
   ],
   "source": [
    "test_score=[]\n",
    "time_taken=[]\n",
    "test_loss=[]\n",
    "nodes_=[]\n",
    "activation_func_=[]\n",
    "optimizer_=[]\n",
    "batch_size_=[]\n",
    "epochs_=[]\n",
    "                \n",
    "for es in epochs:    \n",
    "    for bs in batch_size:\n",
    "        for af in activation_func:\n",
    "            for opti in optimizer:\n",
    "                  for node in nodes:\n",
    "                    ANN(node,af,opti,bs,es,X_train1,y_train1,X_test1,y_test1)\n",
    "\n",
    "df2_ANN=pd.DataFrame()\n",
    "df2_ANN['nodes']=nodes_\n",
    "df2_ANN['activation_function']=activation_func_\n",
    "df2_ANN['optimizer']=optimizer_\n",
    "df2_ANN['batch_size']=batch_size_\n",
    "df2_ANN['epochs']=epochs_\n",
    "df2_ANN['loss']=test_loss\n",
    "df2_ANN['test_score']=test_score\n",
    "df2_ANN['time']=time_taken\n"
   ]
  },
  {
   "cell_type": "code",
   "execution_count": 112,
   "metadata": {},
   "outputs": [
    {
     "data": {
      "text/html": [
       "<div>\n",
       "<style scoped>\n",
       "    .dataframe tbody tr th:only-of-type {\n",
       "        vertical-align: middle;\n",
       "    }\n",
       "\n",
       "    .dataframe tbody tr th {\n",
       "        vertical-align: top;\n",
       "    }\n",
       "\n",
       "    .dataframe thead th {\n",
       "        text-align: right;\n",
       "    }\n",
       "</style>\n",
       "<table border=\"1\" class=\"dataframe\">\n",
       "  <thead>\n",
       "    <tr style=\"text-align: right;\">\n",
       "      <th></th>\n",
       "      <th>nodes</th>\n",
       "      <th>activation_function</th>\n",
       "      <th>optimizer</th>\n",
       "      <th>batch_size</th>\n",
       "      <th>epochs</th>\n",
       "      <th>loss</th>\n",
       "      <th>test_score</th>\n",
       "      <th>time</th>\n",
       "    </tr>\n",
       "  </thead>\n",
       "  <tbody>\n",
       "    <tr>\n",
       "      <th>0</th>\n",
       "      <td>40</td>\n",
       "      <td>sigmoid</td>\n",
       "      <td>adam</td>\n",
       "      <td>32</td>\n",
       "      <td>10</td>\n",
       "      <td>0.329466</td>\n",
       "      <td>0.846613</td>\n",
       "      <td>49.066179</td>\n",
       "    </tr>\n",
       "    <tr>\n",
       "      <th>1</th>\n",
       "      <td>50</td>\n",
       "      <td>sigmoid</td>\n",
       "      <td>adam</td>\n",
       "      <td>32</td>\n",
       "      <td>10</td>\n",
       "      <td>0.331178</td>\n",
       "      <td>0.845655</td>\n",
       "      <td>47.948030</td>\n",
       "    </tr>\n",
       "    <tr>\n",
       "      <th>2</th>\n",
       "      <td>60</td>\n",
       "      <td>sigmoid</td>\n",
       "      <td>adam</td>\n",
       "      <td>32</td>\n",
       "      <td>10</td>\n",
       "      <td>0.328659</td>\n",
       "      <td>0.846023</td>\n",
       "      <td>51.820209</td>\n",
       "    </tr>\n",
       "    <tr>\n",
       "      <th>3</th>\n",
       "      <td>40</td>\n",
       "      <td>sigmoid</td>\n",
       "      <td>rmsprop</td>\n",
       "      <td>32</td>\n",
       "      <td>10</td>\n",
       "      <td>0.340311</td>\n",
       "      <td>0.840422</td>\n",
       "      <td>49.959008</td>\n",
       "    </tr>\n",
       "    <tr>\n",
       "      <th>4</th>\n",
       "      <td>50</td>\n",
       "      <td>sigmoid</td>\n",
       "      <td>rmsprop</td>\n",
       "      <td>32</td>\n",
       "      <td>10</td>\n",
       "      <td>0.340527</td>\n",
       "      <td>0.841159</td>\n",
       "      <td>50.085554</td>\n",
       "    </tr>\n",
       "  </tbody>\n",
       "</table>\n",
       "</div>"
      ],
      "text/plain": [
       "   nodes activation_function optimizer  batch_size  epochs      loss  \\\n",
       "0     40             sigmoid      adam          32      10  0.329466   \n",
       "1     50             sigmoid      adam          32      10  0.331178   \n",
       "2     60             sigmoid      adam          32      10  0.328659   \n",
       "3     40             sigmoid   rmsprop          32      10  0.340311   \n",
       "4     50             sigmoid   rmsprop          32      10  0.340527   \n",
       "\n",
       "   test_score       time  \n",
       "0    0.846613  49.066179  \n",
       "1    0.845655  47.948030  \n",
       "2    0.846023  51.820209  \n",
       "3    0.840422  49.959008  \n",
       "4    0.841159  50.085554  "
      ]
     },
     "execution_count": 112,
     "metadata": {},
     "output_type": "execute_result"
    }
   ],
   "source": [
    "df2_ANN.head()"
   ]
  },
  {
   "cell_type": "markdown",
   "metadata": {},
   "source": [
    "#### Dataframe containing top 5 test score for ANN algo second daataset"
   ]
  },
  {
   "cell_type": "code",
   "execution_count": 113,
   "metadata": {},
   "outputs": [
    {
     "data": {
      "text/html": [
       "<div>\n",
       "<style scoped>\n",
       "    .dataframe tbody tr th:only-of-type {\n",
       "        vertical-align: middle;\n",
       "    }\n",
       "\n",
       "    .dataframe tbody tr th {\n",
       "        vertical-align: top;\n",
       "    }\n",
       "\n",
       "    .dataframe thead th {\n",
       "        text-align: right;\n",
       "    }\n",
       "</style>\n",
       "<table border=\"1\" class=\"dataframe\">\n",
       "  <thead>\n",
       "    <tr style=\"text-align: right;\">\n",
       "      <th></th>\n",
       "      <th>nodes</th>\n",
       "      <th>activation_function</th>\n",
       "      <th>optimizer</th>\n",
       "      <th>batch_size</th>\n",
       "      <th>epochs</th>\n",
       "      <th>loss</th>\n",
       "      <th>test_score</th>\n",
       "      <th>time</th>\n",
       "    </tr>\n",
       "  </thead>\n",
       "  <tbody>\n",
       "    <tr>\n",
       "      <th>78</th>\n",
       "      <td>40</td>\n",
       "      <td>relu</td>\n",
       "      <td>adam</td>\n",
       "      <td>32</td>\n",
       "      <td>30</td>\n",
       "      <td>0.324290</td>\n",
       "      <td>0.850446</td>\n",
       "      <td>158.545685</td>\n",
       "    </tr>\n",
       "    <tr>\n",
       "      <th>96</th>\n",
       "      <td>40</td>\n",
       "      <td>relu</td>\n",
       "      <td>adam</td>\n",
       "      <td>64</td>\n",
       "      <td>30</td>\n",
       "      <td>0.324695</td>\n",
       "      <td>0.850151</td>\n",
       "      <td>85.951969</td>\n",
       "    </tr>\n",
       "    <tr>\n",
       "      <th>99</th>\n",
       "      <td>40</td>\n",
       "      <td>relu</td>\n",
       "      <td>rmsprop</td>\n",
       "      <td>64</td>\n",
       "      <td>30</td>\n",
       "      <td>0.328031</td>\n",
       "      <td>0.849856</td>\n",
       "      <td>87.425090</td>\n",
       "    </tr>\n",
       "    <tr>\n",
       "      <th>84</th>\n",
       "      <td>40</td>\n",
       "      <td>tanh</td>\n",
       "      <td>adam</td>\n",
       "      <td>32</td>\n",
       "      <td>30</td>\n",
       "      <td>0.321702</td>\n",
       "      <td>0.849856</td>\n",
       "      <td>158.453914</td>\n",
       "    </tr>\n",
       "    <tr>\n",
       "      <th>79</th>\n",
       "      <td>50</td>\n",
       "      <td>relu</td>\n",
       "      <td>adam</td>\n",
       "      <td>32</td>\n",
       "      <td>30</td>\n",
       "      <td>0.328351</td>\n",
       "      <td>0.849340</td>\n",
       "      <td>159.998654</td>\n",
       "    </tr>\n",
       "  </tbody>\n",
       "</table>\n",
       "</div>"
      ],
      "text/plain": [
       "    nodes activation_function optimizer  batch_size  epochs      loss  \\\n",
       "78     40                relu      adam          32      30  0.324290   \n",
       "96     40                relu      adam          64      30  0.324695   \n",
       "99     40                relu   rmsprop          64      30  0.328031   \n",
       "84     40                tanh      adam          32      30  0.321702   \n",
       "79     50                relu      adam          32      30  0.328351   \n",
       "\n",
       "    test_score        time  \n",
       "78    0.850446  158.545685  \n",
       "96    0.850151   85.951969  \n",
       "99    0.849856   87.425090  \n",
       "84    0.849856  158.453914  \n",
       "79    0.849340  159.998654  "
      ]
     },
     "execution_count": 113,
     "metadata": {},
     "output_type": "execute_result"
    }
   ],
   "source": [
    "(df2_ANN.sort_values(by='test_score',ascending=False)).head(5)"
   ]
  },
  {
   "cell_type": "markdown",
   "metadata": {},
   "source": [
    "#### Findings:\n",
    "1. The best test_score is 85.05 with 40 nodes, relu as hidden layer activation function, adam optimizer, 30 epochs and 32 batch size.\n",
    "2. The best test score iteration took a computational time of 158 secs.\n",
    "3. The second best test score is 85.01 with a computational time of 85 seconds, about half of the best test score time.\n",
    "4. Decrease in batch size decreases computational time with everything else the same"
   ]
  },
  {
   "cell_type": "markdown",
   "metadata": {},
   "source": [
    "#### Plots showing comparision across various hyperparameters"
   ]
  },
  {
   "cell_type": "code",
   "execution_count": 114,
   "metadata": {},
   "outputs": [
    {
     "data": {
      "image/png": "[encoded data removed]",
      "text/plain": [
       "<matplotlib.figure.Figure at 0x27684bdf198>"
      ]
     },
     "metadata": {},
     "output_type": "display_data"
    }
   ],
   "source": [
    "plt.figure(figsize=(20,20))\n",
    "plt.subplot(4,2,1)\n",
    "sns.stripplot('nodes','test_score',hue='epochs',data=df2_ANN)\n",
    "plt.xlabel('nodes')\n",
    "plt.ylabel('test_score')\n",
    "plt.title('plot showing nodes vs test_score')\n",
    "plt.subplot(4,2,2)\n",
    "sns.stripplot('nodes','loss',hue='epochs',data=df2_ANN)\n",
    "plt.xlabel('nodes')\n",
    "plt.ylabel('loss')\n",
    "plt.title('plot showing nodes vs loss')\n",
    "plt.subplot(4,2,3)\n",
    "sns.stripplot('batch_size','test_score',hue='optimizer',data=df2_ANN)\n",
    "plt.xlabel('batch_size')\n",
    "plt.ylabel('test_score')\n",
    "plt.title('plot showing batch_size vs test_score colored by optimizer')\n",
    "plt.subplot(4,2,4)\n",
    "sns.stripplot('batch_size','loss',hue='optimizer',data=df2_ANN)\n",
    "plt.xlabel('batch_size')\n",
    "plt.ylabel('loss')\n",
    "plt.title('plot showing batch_size vs loss colored by optimizer')\n",
    "plt.subplot(4,2,5)\n",
    "sns.stripplot('epochs','time',hue='optimizer',data=df2_ANN)\n",
    "plt.xlabel('epochs')\n",
    "plt.ylabel('time')\n",
    "plt.title('plot showing epochs vs time colored by optimizer')\n",
    "plt.subplot(4,2,6)\n",
    "sns.stripplot('epochs','time',hue='activation_function',data=df2_ANN)\n",
    "plt.xlabel('epochs')\n",
    "plt.ylabel('time')\n",
    "plt.title('plot showing epochs vs time colored by activation_fuction')\n",
    "plt.subplot(4,2,7)\n",
    "sns.stripplot('time','test_score',hue='nodes',data=df2_ANN)\n",
    "plt.xlabel('time')\n",
    "plt.ylabel('test_score')\n",
    "plt.title('plot showing time vs test_score colored by nodes')\n",
    "plt.subplot(4,2,8)\n",
    "sns.stripplot('time','loss',hue='nodes',data=df2_ANN)\n",
    "plt.xlabel('time')\n",
    "plt.ylabel('loss')\n",
    "plt.title('plot showing time vs loss colored by nodes')\n",
    "plt.show()"
   ]
  },
  {
   "cell_type": "markdown",
   "metadata": {},
   "source": [
    "#### Findings:\n",
    "1. There is a general upward trend in test_score as time increases with more number of nodes achieving better results.\n",
    "2. There is a no apparent relation between time and loss as compared to nodes\n",
    "3. msprop takes more time compared to adam\n",
    "4. tanh activation function is computationally expensive compared to sigmoid and ReLU\n",
    "5. msprop achieved better test_scores on average compared to adam optimizer.\n",
    "6. With increasing number of nodes theres is decrease in test_score with 40 nodes achieving the best score  \n",
    "7. Increasing batch size decreased test score"
   ]
  },
  {
   "cell_type": "markdown",
   "metadata": {},
   "source": [
    "#### Conclusions:\n",
    "1. For both the datasets adaboost is the best with scores of 66.38(dataset1) and 86.8(dataset2).\n",
    "2. For dataset 1, adaboost time taken is 289 seconds compared to 141 secs-KNN and 55secs-ANN, making it computationally very expensive.\n",
    "3. For dataset 2, adaboost time taken is 86.8 seconds compared to 90 secs-KNN and  158.54secs-ANN, making it the least computationally expensive algorithm.\n",
    "4. Things that could imporve the modelling - modelling by cross validation in K nearest neighbours, using other hyperparameters like dropout in Artificial Neural networks.\n"
   ]
  },
  {
   "cell_type": "markdown",
   "metadata": {},
   "source": [
    "#### Refrences:\n",
    "1. https://stats.stackexchange.com/questions/181/how-to-choose-the-number-of-hidden-layers-and-nodes-in-a-feedforward-neural-netw -  This is the basis on which number of hidden layers and number of neurons in hidden layers were choosen.\n",
    "2. http://scikit-learn.org/stable/modules/generated/sklearn.neighbors.KNeighborsClassifier.html\n",
    "3. https://medium.com/@pushkarmandot/build-your-first-deep-learning-neural-network-model-using-keras-in-python-a90b5864116d\n",
    "4. https://www.datacamp.com/community/tutorials/deep-learning-python\n",
    "5. http://scikit-learn.org/stable/"
   ]
  },
  {
   "cell_type": "code",
   "execution_count": null,
   "metadata": {},
   "outputs": [],
   "source": []
  }
 ],
 "metadata": {
  "kernelspec": {
   "display_name": "Python 3",
   "language": "python",
   "name": "python3"
  },
  "language_info": {
   "codemirror_mode": {
    "name": "ipython",
    "version": 3
   },
   "file_extension": ".py",
   "mimetype": "text/x-python",
   "name": "python",
   "nbconvert_exporter": "python",
   "pygments_lexer": "ipython3",
   "version": "3.6.5"
  }
 },
 "nbformat": 4,
 "nbformat_minor": 2
}
